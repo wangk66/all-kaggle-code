{
 "cells": [
  {
   "cell_type": "code",
   "execution_count": 1,
   "id": "553335f2",
   "metadata": {
    "_cell_guid": "b1076dfc-b9ad-4769-8c92-a6c4dae69d19",
    "_uuid": "8f2839f25d086af736a60e9eeb907d3b93b6e0e5",
    "execution": {
     "iopub.execute_input": "2022-05-18T12:12:19.013671Z",
     "iopub.status.busy": "2022-05-18T12:12:19.012988Z",
     "iopub.status.idle": "2022-05-18T12:12:19.026414Z",
     "shell.execute_reply": "2022-05-18T12:12:19.025811Z"
    },
    "papermill": {
     "duration": 0.061436,
     "end_time": "2022-05-18T12:12:19.029307",
     "exception": false,
     "start_time": "2022-05-18T12:12:18.967871",
     "status": "completed"
    },
    "tags": []
   },
   "outputs": [
    {
     "name": "stdout",
     "output_type": "stream",
     "text": [
      "/kaggle/input/house-prices-advanced-regression-techniques/sample_submission.csv\n",
      "/kaggle/input/house-prices-advanced-regression-techniques/data_description.txt\n",
      "/kaggle/input/house-prices-advanced-regression-techniques/train.csv\n",
      "/kaggle/input/house-prices-advanced-regression-techniques/test.csv\n"
     ]
    }
   ],
   "source": [
    "# This Python 3 environment comes with many helpful analytics libraries installed\n",
    "# It is defined by the kaggle/python Docker image: https://github.com/kaggle/docker-python\n",
    "# For example, here's several helpful packages to load\n",
    "\n",
    "import numpy as np # linear algebra\n",
    "import pandas as pd # data processing, CSV file I/O (e.g. pd.read_csv)\n",
    "\n",
    "# Input data files are available in the read-only \"../input/\" directory\n",
    "# For example, running this (by clicking run or pressing Shift+Enter) will list all files under the input directory\n",
    "\n",
    "import os\n",
    "for dirname, _, filenames in os.walk('/kaggle/input'):\n",
    "    for filename in filenames:\n",
    "        print(os.path.join(dirname, filename))\n",
    "\n",
    "# You can write up to 20GB to the current directory (/kaggle/working/) that gets preserved as output when you create a version using \"Save & Run All\" \n",
    "# You can also write temporary files to /kaggle/temp/, but they won't be saved outside of the current session"
   ]
  },
  {
   "cell_type": "markdown",
   "id": "df1988fe",
   "metadata": {
    "execution": {
     "iopub.execute_input": "2022-05-18T07:31:50.488874Z",
     "iopub.status.busy": "2022-05-18T07:31:50.488227Z",
     "iopub.status.idle": "2022-05-18T07:31:50.492818Z",
     "shell.execute_reply": "2022-05-18T07:31:50.492098Z",
     "shell.execute_reply.started": "2022-05-18T07:31:50.48883Z"
    },
    "papermill": {
     "duration": 0.040096,
     "end_time": "2022-05-18T12:12:19.114759",
     "exception": false,
     "start_time": "2022-05-18T12:12:19.074663",
     "status": "completed"
    },
    "tags": []
   },
   "source": [
    "# 1 导入相关库和数据文件"
   ]
  },
  {
   "cell_type": "code",
   "execution_count": 2,
   "id": "c098554b",
   "metadata": {
    "execution": {
     "iopub.execute_input": "2022-05-18T12:12:19.197231Z",
     "iopub.status.busy": "2022-05-18T12:12:19.196509Z",
     "iopub.status.idle": "2022-05-18T12:12:20.441902Z",
     "shell.execute_reply": "2022-05-18T12:12:20.441113Z"
    },
    "papermill": {
     "duration": 1.289572,
     "end_time": "2022-05-18T12:12:20.444265",
     "exception": false,
     "start_time": "2022-05-18T12:12:19.154693",
     "status": "completed"
    },
    "tags": []
   },
   "outputs": [],
   "source": [
    "import pandas as pd\n",
    "import matplotlib.pyplot as plt\n",
    "import numpy as np\n",
    "import seaborn as sns\n",
    "from scipy.stats import norm\n",
    "from sklearn.preprocessing import StandardScaler\n",
    "import warnings\n",
    "warnings.filterwarnings('ignore')\n",
    "%matplotlib inline"
   ]
  },
  {
   "cell_type": "code",
   "execution_count": 3,
   "id": "1246d8e7",
   "metadata": {
    "execution": {
     "iopub.execute_input": "2022-05-18T12:12:20.527857Z",
     "iopub.status.busy": "2022-05-18T12:12:20.526980Z",
     "iopub.status.idle": "2022-05-18T12:12:20.591719Z",
     "shell.execute_reply": "2022-05-18T12:12:20.590833Z"
    },
    "papermill": {
     "duration": 0.108943,
     "end_time": "2022-05-18T12:12:20.594110",
     "exception": false,
     "start_time": "2022-05-18T12:12:20.485167",
     "status": "completed"
    },
    "tags": []
   },
   "outputs": [
    {
     "data": {
      "text/html": [
       "<div>\n",
       "<style scoped>\n",
       "    .dataframe tbody tr th:only-of-type {\n",
       "        vertical-align: middle;\n",
       "    }\n",
       "\n",
       "    .dataframe tbody tr th {\n",
       "        vertical-align: top;\n",
       "    }\n",
       "\n",
       "    .dataframe thead th {\n",
       "        text-align: right;\n",
       "    }\n",
       "</style>\n",
       "<table border=\"1\" class=\"dataframe\">\n",
       "  <thead>\n",
       "    <tr style=\"text-align: right;\">\n",
       "      <th></th>\n",
       "      <th>Id</th>\n",
       "      <th>MSSubClass</th>\n",
       "      <th>MSZoning</th>\n",
       "      <th>LotFrontage</th>\n",
       "      <th>LotArea</th>\n",
       "      <th>Street</th>\n",
       "      <th>Alley</th>\n",
       "      <th>LotShape</th>\n",
       "      <th>LandContour</th>\n",
       "      <th>Utilities</th>\n",
       "      <th>...</th>\n",
       "      <th>PoolArea</th>\n",
       "      <th>PoolQC</th>\n",
       "      <th>Fence</th>\n",
       "      <th>MiscFeature</th>\n",
       "      <th>MiscVal</th>\n",
       "      <th>MoSold</th>\n",
       "      <th>YrSold</th>\n",
       "      <th>SaleType</th>\n",
       "      <th>SaleCondition</th>\n",
       "      <th>SalePrice</th>\n",
       "    </tr>\n",
       "  </thead>\n",
       "  <tbody>\n",
       "    <tr>\n",
       "      <th>0</th>\n",
       "      <td>1</td>\n",
       "      <td>60</td>\n",
       "      <td>RL</td>\n",
       "      <td>65.0</td>\n",
       "      <td>8450</td>\n",
       "      <td>Pave</td>\n",
       "      <td>NaN</td>\n",
       "      <td>Reg</td>\n",
       "      <td>Lvl</td>\n",
       "      <td>AllPub</td>\n",
       "      <td>...</td>\n",
       "      <td>0</td>\n",
       "      <td>NaN</td>\n",
       "      <td>NaN</td>\n",
       "      <td>NaN</td>\n",
       "      <td>0</td>\n",
       "      <td>2</td>\n",
       "      <td>2008</td>\n",
       "      <td>WD</td>\n",
       "      <td>Normal</td>\n",
       "      <td>208500</td>\n",
       "    </tr>\n",
       "    <tr>\n",
       "      <th>1</th>\n",
       "      <td>2</td>\n",
       "      <td>20</td>\n",
       "      <td>RL</td>\n",
       "      <td>80.0</td>\n",
       "      <td>9600</td>\n",
       "      <td>Pave</td>\n",
       "      <td>NaN</td>\n",
       "      <td>Reg</td>\n",
       "      <td>Lvl</td>\n",
       "      <td>AllPub</td>\n",
       "      <td>...</td>\n",
       "      <td>0</td>\n",
       "      <td>NaN</td>\n",
       "      <td>NaN</td>\n",
       "      <td>NaN</td>\n",
       "      <td>0</td>\n",
       "      <td>5</td>\n",
       "      <td>2007</td>\n",
       "      <td>WD</td>\n",
       "      <td>Normal</td>\n",
       "      <td>181500</td>\n",
       "    </tr>\n",
       "    <tr>\n",
       "      <th>2</th>\n",
       "      <td>3</td>\n",
       "      <td>60</td>\n",
       "      <td>RL</td>\n",
       "      <td>68.0</td>\n",
       "      <td>11250</td>\n",
       "      <td>Pave</td>\n",
       "      <td>NaN</td>\n",
       "      <td>IR1</td>\n",
       "      <td>Lvl</td>\n",
       "      <td>AllPub</td>\n",
       "      <td>...</td>\n",
       "      <td>0</td>\n",
       "      <td>NaN</td>\n",
       "      <td>NaN</td>\n",
       "      <td>NaN</td>\n",
       "      <td>0</td>\n",
       "      <td>9</td>\n",
       "      <td>2008</td>\n",
       "      <td>WD</td>\n",
       "      <td>Normal</td>\n",
       "      <td>223500</td>\n",
       "    </tr>\n",
       "    <tr>\n",
       "      <th>3</th>\n",
       "      <td>4</td>\n",
       "      <td>70</td>\n",
       "      <td>RL</td>\n",
       "      <td>60.0</td>\n",
       "      <td>9550</td>\n",
       "      <td>Pave</td>\n",
       "      <td>NaN</td>\n",
       "      <td>IR1</td>\n",
       "      <td>Lvl</td>\n",
       "      <td>AllPub</td>\n",
       "      <td>...</td>\n",
       "      <td>0</td>\n",
       "      <td>NaN</td>\n",
       "      <td>NaN</td>\n",
       "      <td>NaN</td>\n",
       "      <td>0</td>\n",
       "      <td>2</td>\n",
       "      <td>2006</td>\n",
       "      <td>WD</td>\n",
       "      <td>Abnorml</td>\n",
       "      <td>140000</td>\n",
       "    </tr>\n",
       "    <tr>\n",
       "      <th>4</th>\n",
       "      <td>5</td>\n",
       "      <td>60</td>\n",
       "      <td>RL</td>\n",
       "      <td>84.0</td>\n",
       "      <td>14260</td>\n",
       "      <td>Pave</td>\n",
       "      <td>NaN</td>\n",
       "      <td>IR1</td>\n",
       "      <td>Lvl</td>\n",
       "      <td>AllPub</td>\n",
       "      <td>...</td>\n",
       "      <td>0</td>\n",
       "      <td>NaN</td>\n",
       "      <td>NaN</td>\n",
       "      <td>NaN</td>\n",
       "      <td>0</td>\n",
       "      <td>12</td>\n",
       "      <td>2008</td>\n",
       "      <td>WD</td>\n",
       "      <td>Normal</td>\n",
       "      <td>250000</td>\n",
       "    </tr>\n",
       "  </tbody>\n",
       "</table>\n",
       "<p>5 rows × 81 columns</p>\n",
       "</div>"
      ],
      "text/plain": [
       "   Id  MSSubClass MSZoning  LotFrontage  LotArea Street Alley LotShape  \\\n",
       "0   1          60       RL         65.0     8450   Pave   NaN      Reg   \n",
       "1   2          20       RL         80.0     9600   Pave   NaN      Reg   \n",
       "2   3          60       RL         68.0    11250   Pave   NaN      IR1   \n",
       "3   4          70       RL         60.0     9550   Pave   NaN      IR1   \n",
       "4   5          60       RL         84.0    14260   Pave   NaN      IR1   \n",
       "\n",
       "  LandContour Utilities  ... PoolArea PoolQC Fence MiscFeature MiscVal MoSold  \\\n",
       "0         Lvl    AllPub  ...        0    NaN   NaN         NaN       0      2   \n",
       "1         Lvl    AllPub  ...        0    NaN   NaN         NaN       0      5   \n",
       "2         Lvl    AllPub  ...        0    NaN   NaN         NaN       0      9   \n",
       "3         Lvl    AllPub  ...        0    NaN   NaN         NaN       0      2   \n",
       "4         Lvl    AllPub  ...        0    NaN   NaN         NaN       0     12   \n",
       "\n",
       "  YrSold  SaleType  SaleCondition  SalePrice  \n",
       "0   2008        WD         Normal     208500  \n",
       "1   2007        WD         Normal     181500  \n",
       "2   2008        WD         Normal     223500  \n",
       "3   2006        WD        Abnorml     140000  \n",
       "4   2008        WD         Normal     250000  \n",
       "\n",
       "[5 rows x 81 columns]"
      ]
     },
     "execution_count": 3,
     "metadata": {},
     "output_type": "execute_result"
    }
   ],
   "source": [
    "data_train=pd.read_csv(\"/kaggle/input/house-prices-advanced-regression-techniques/train.csv\")\n",
    "data_train.head()"
   ]
  },
  {
   "cell_type": "markdown",
   "id": "f6b614ec",
   "metadata": {
    "papermill": {
     "duration": 0.039891,
     "end_time": "2022-05-18T12:12:20.674347",
     "exception": false,
     "start_time": "2022-05-18T12:12:20.634456",
     "status": "completed"
    },
    "tags": []
   },
   "source": [
    "# 2分析目标变量及主要特征关系"
   ]
  },
  {
   "cell_type": "markdown",
   "id": "adbf4e2f",
   "metadata": {
    "papermill": {
     "duration": 0.039773,
     "end_time": "2022-05-18T12:12:20.754328",
     "exception": false,
     "start_time": "2022-05-18T12:12:20.714555",
     "status": "completed"
    },
    "tags": []
   },
   "source": [
    "## 2.1 分析目标变量"
   ]
  },
  {
   "cell_type": "markdown",
   "id": "cf1be91f",
   "metadata": {
    "execution": {
     "iopub.execute_input": "2022-05-18T07:34:35.066448Z",
     "iopub.status.busy": "2022-05-18T07:34:35.065912Z",
     "iopub.status.idle": "2022-05-18T07:34:35.071443Z",
     "shell.execute_reply": "2022-05-18T07:34:35.070435Z",
     "shell.execute_reply.started": "2022-05-18T07:34:35.066412Z"
    },
    "papermill": {
     "duration": 0.043765,
     "end_time": "2022-05-18T12:12:20.839203",
     "exception": false,
     "start_time": "2022-05-18T12:12:20.795438",
     "status": "completed"
    },
    "tags": []
   },
   "source": [
    "* 本阶段的主要任务是：\n",
    "* 1 分析目标变量即SalePrice；\n",
    "* 2 从大量的特征变量筛选相关性大的变量；\n",
    "* 3 寻找与目标变量相关性大的变量"
   ]
  },
  {
   "cell_type": "code",
   "execution_count": 4,
   "id": "b35b4e1a",
   "metadata": {
    "execution": {
     "iopub.execute_input": "2022-05-18T12:12:20.949500Z",
     "iopub.status.busy": "2022-05-18T12:12:20.948650Z",
     "iopub.status.idle": "2022-05-18T12:12:20.962634Z",
     "shell.execute_reply": "2022-05-18T12:12:20.961993Z"
    },
    "papermill": {
     "duration": 0.0664,
     "end_time": "2022-05-18T12:12:20.964364",
     "exception": false,
     "start_time": "2022-05-18T12:12:20.897964",
     "status": "completed"
    },
    "tags": []
   },
   "outputs": [
    {
     "data": {
      "text/plain": [
       "count      1460.000000\n",
       "mean     180921.195890\n",
       "std       79442.502883\n",
       "min       34900.000000\n",
       "25%      129975.000000\n",
       "50%      163000.000000\n",
       "75%      214000.000000\n",
       "max      755000.000000\n",
       "Name: SalePrice, dtype: float64"
      ]
     },
     "execution_count": 4,
     "metadata": {},
     "output_type": "execute_result"
    }
   ],
   "source": [
    "data_train['SalePrice'].describe()"
   ]
  },
  {
   "cell_type": "code",
   "execution_count": 5,
   "id": "baabc6bf",
   "metadata": {
    "execution": {
     "iopub.execute_input": "2022-05-18T12:12:21.050386Z",
     "iopub.status.busy": "2022-05-18T12:12:21.049883Z",
     "iopub.status.idle": "2022-05-18T12:12:21.358640Z",
     "shell.execute_reply": "2022-05-18T12:12:21.357803Z"
    },
    "papermill": {
     "duration": 0.353749,
     "end_time": "2022-05-18T12:12:21.360820",
     "exception": false,
     "start_time": "2022-05-18T12:12:21.007071",
     "status": "completed"
    },
    "tags": []
   },
   "outputs": [
    {
     "data": {
      "text/plain": [
       "<AxesSubplot:xlabel='SalePrice', ylabel='Density'>"
      ]
     },
     "execution_count": 5,
     "metadata": {},
     "output_type": "execute_result"
    },
    {
     "data": {
      "image/png": "[encoded data removed]",
      "text/plain": [
       "<Figure size 432x288 with 1 Axes>"
      ]
     },
     "metadata": {
      "needs_background": "light"
     },
     "output_type": "display_data"
    }
   ],
   "source": [
    "sns.distplot(data_train['SalePrice'])"
   ]
  },
  {
   "cell_type": "markdown",
   "id": "c33ca407",
   "metadata": {
    "papermill": {
     "duration": 0.042407,
     "end_time": "2022-05-18T12:12:21.445596",
     "exception": false,
     "start_time": "2022-05-18T12:12:21.403189",
     "status": "completed"
    },
    "tags": []
   },
   "source": [
    "* 峰度（Kurtosis）和 偏度（Skewness）的概念。\n",
    "\n",
    "* 峰度：峰度（Kurtosis）是描述某变量所有取值分布形态陡缓程度的统计量。它是和正态分布相比较的。\n",
    "\n",
    ">Kurtosis=0 与正态分布的陡缓程度相同。\n",
    "Kurtosis>0 比正态分布的高峰更加陡峭——尖顶峰\n",
    "Kurtosis<0 比正态分布的高峰来得平台——平顶峰计算公式：β = M_4 /σ^4 偏度：\n",
    "\n",
    "* 偏度：偏度（Skewness）是描述某变量取值分布对称性的统计量。\n",
    "\n",
    ">Skewness=0 分布形态与正态分布偏度相同\n",
    "Skewness>0 正偏差数值较大，为正偏或右偏。长尾巴拖在右边。\n",
    "Skewness<0 负偏差数值较大，为负偏或左偏。长尾巴拖在左边。 计算公式： S= (X^ - M_0)/δ Skewness 越大，分布形态偏移程度越大。"
   ]
  },
  {
   "cell_type": "code",
   "execution_count": 6,
   "id": "691ad7cd",
   "metadata": {
    "execution": {
     "iopub.execute_input": "2022-05-18T12:12:21.531798Z",
     "iopub.status.busy": "2022-05-18T12:12:21.531011Z",
     "iopub.status.idle": "2022-05-18T12:12:21.536759Z",
     "shell.execute_reply": "2022-05-18T12:12:21.536227Z"
    },
    "papermill": {
     "duration": 0.050608,
     "end_time": "2022-05-18T12:12:21.538372",
     "exception": false,
     "start_time": "2022-05-18T12:12:21.487764",
     "status": "completed"
    },
    "tags": []
   },
   "outputs": [
    {
     "data": {
      "text/plain": [
       "(1.8828757597682129, 6.536281860064529)"
      ]
     },
     "execution_count": 6,
     "metadata": {},
     "output_type": "execute_result"
    }
   ],
   "source": [
    "data_train['SalePrice'].skew(),data_train['SalePrice'].kurt()"
   ]
  },
  {
   "cell_type": "markdown",
   "id": "a970db93",
   "metadata": {
    "papermill": {
     "duration": 0.043219,
     "end_time": "2022-05-18T12:12:21.623960",
     "exception": false,
     "start_time": "2022-05-18T12:12:21.580741",
     "status": "completed"
    },
    "tags": []
   },
   "source": [
    "* Targe值确实是右偏的,现在利用利用log(1+x)进行log变换\n",
    "* SalePrice是非正态分布，由于要分析其与其他特征的相关性暂不做log(1+x)转换。后面要进行转换"
   ]
  },
  {
   "cell_type": "markdown",
   "id": "5055fcda",
   "metadata": {
    "execution": {
     "iopub.execute_input": "2022-05-18T07:39:12.793586Z",
     "iopub.status.busy": "2022-05-18T07:39:12.793272Z",
     "iopub.status.idle": "2022-05-18T07:39:12.797151Z",
     "shell.execute_reply": "2022-05-18T07:39:12.796366Z",
     "shell.execute_reply.started": "2022-05-18T07:39:12.793541Z"
    },
    "papermill": {
     "duration": 0.041832,
     "end_time": "2022-05-18T12:12:21.708377",
     "exception": false,
     "start_time": "2022-05-18T12:12:21.666545",
     "status": "completed"
    },
    "tags": []
   },
   "source": [
    "# 2.2   分析特征变量"
   ]
  },
  {
   "cell_type": "markdown",
   "id": "de620a53",
   "metadata": {
    "papermill": {
     "duration": 0.042024,
     "end_time": "2022-05-18T12:12:21.792409",
     "exception": false,
     "start_time": "2022-05-18T12:12:21.750385",
     "status": "completed"
    },
    "tags": []
   },
   "source": [
    "* 其中有46个分类型号变量特征，34个连续型变量特征。\n",
    "* 从中初步筛选，并假定这些特征与目标变量相关，后面再做验证。\n",
    "\n",
    "    \n",
    "| 特征变量 | 数据类型 | 含义 | \n",
    "| :-----| ----: | :----: \n",
    "| MSZoning | 分类 | 区域分类 |\n",
    "| LotArea | 连续 | 建筑面积 |\n",
    "| Utility | 分类 | 公用设施提供 |\n",
    "| Neighborhood | 分类 | 地理位置 |\n",
    "| BldgType | 分类 | 住宅类型 |\n",
    "| OverallQual| 分类 | 完工质量及用才 |\n",
    "| YearBuilt | 分类 | 完工年份 |\n",
    "| Heating | 分类 | 供热 |\n",
    "| CentralAir | 分类 | 中央空调 |\n",
    "| 1stFlrSF | 连续 | 1层面积 |\n",
    "| GrLivArea | 连续 | 地面上生活区域 |\n",
    "| TotalBsMtSF | 连续 | 地下室面积 |"
   ]
  },
  {
   "cell_type": "code",
   "execution_count": 7,
   "id": "81552e2f",
   "metadata": {
    "execution": {
     "iopub.execute_input": "2022-05-18T12:12:21.881092Z",
     "iopub.status.busy": "2022-05-18T12:12:21.880622Z",
     "iopub.status.idle": "2022-05-18T12:12:21.884887Z",
     "shell.execute_reply": "2022-05-18T12:12:21.884180Z"
    },
    "papermill": {
     "duration": 0.050585,
     "end_time": "2022-05-18T12:12:21.886805",
     "exception": false,
     "start_time": "2022-05-18T12:12:21.836220",
     "status": "completed"
    },
    "tags": []
   },
   "outputs": [],
   "source": [
    "def var_corr_plot(var):\n",
    "    data = pd.concat([data_train['SalePrice'], var], axis=1)\n",
    "    fig = sns.boxplot(x=var, y=\"SalePrice\", data=data)\n",
    "    fig.axis(ymin=0, ymax=800000)"
   ]
  },
  {
   "cell_type": "code",
   "execution_count": 8,
   "id": "c155b670",
   "metadata": {
    "execution": {
     "iopub.execute_input": "2022-05-18T12:12:21.974212Z",
     "iopub.status.busy": "2022-05-18T12:12:21.973908Z",
     "iopub.status.idle": "2022-05-18T12:12:22.147529Z",
     "shell.execute_reply": "2022-05-18T12:12:22.146733Z"
    },
    "papermill": {
     "duration": 0.220276,
     "end_time": "2022-05-18T12:12:22.149491",
     "exception": false,
     "start_time": "2022-05-18T12:12:21.929215",
     "status": "completed"
    },
    "tags": []
   },
   "outputs": [
    {
     "data": {
      "image/png": "[encoded data removed]",
      "text/plain": [
       "<Figure size 432x288 with 1 Axes>"
      ]
     },
     "metadata": {
      "needs_background": "light"
     },
     "output_type": "display_data"
    }
   ],
   "source": [
    "var_corr_plot(data_train['CentralAir'])"
   ]
  },
  {
   "cell_type": "markdown",
   "id": "370ba92c",
   "metadata": {
    "papermill": {
     "duration": 0.042201,
     "end_time": "2022-05-18T12:12:22.234463",
     "exception": false,
     "start_time": "2022-05-18T12:12:22.192262",
     "status": "completed"
    },
    "tags": []
   },
   "source": [
    "* \"CentralAir\"指标和目标变量相关。"
   ]
  },
  {
   "cell_type": "code",
   "execution_count": 9,
   "id": "c40834db",
   "metadata": {
    "execution": {
     "iopub.execute_input": "2022-05-18T12:12:22.321348Z",
     "iopub.status.busy": "2022-05-18T12:12:22.320618Z",
     "iopub.status.idle": "2022-05-18T12:12:22.533456Z",
     "shell.execute_reply": "2022-05-18T12:12:22.532621Z"
    },
    "papermill": {
     "duration": 0.258733,
     "end_time": "2022-05-18T12:12:22.535647",
     "exception": false,
     "start_time": "2022-05-18T12:12:22.276914",
     "status": "completed"
    },
    "tags": []
   },
   "outputs": [
    {
     "data": {
      "image/png": "[encoded data removed]",
      "text/plain": [
       "<Figure size 432x288 with 1 Axes>"
      ]
     },
     "metadata": {
      "needs_background": "light"
     },
     "output_type": "display_data"
    }
   ],
   "source": [
    "var_corr_plot(data_train['MSZoning'])"
   ]
  },
  {
   "cell_type": "markdown",
   "id": "a5f9e989",
   "metadata": {
    "papermill": {
     "duration": 0.044534,
     "end_time": "2022-05-18T12:12:22.624183",
     "exception": false,
     "start_time": "2022-05-18T12:12:22.579649",
     "status": "completed"
    },
    "tags": []
   },
   "source": [
    "*结论： MSZoning 和目标变量相关，保留。"
   ]
  },
  {
   "cell_type": "code",
   "execution_count": 10,
   "id": "883bd44d",
   "metadata": {
    "execution": {
     "iopub.execute_input": "2022-05-18T12:12:22.713458Z",
     "iopub.status.busy": "2022-05-18T12:12:22.712793Z",
     "iopub.status.idle": "2022-05-18T12:12:22.933861Z",
     "shell.execute_reply": "2022-05-18T12:12:22.932997Z"
    },
    "papermill": {
     "duration": 0.268367,
     "end_time": "2022-05-18T12:12:22.936070",
     "exception": false,
     "start_time": "2022-05-18T12:12:22.667703",
     "status": "completed"
    },
    "tags": []
   },
   "outputs": [
    {
     "data": {
      "image/png": "[encoded data removed]",
      "text/plain": [
       "<Figure size 432x288 with 1 Axes>"
      ]
     },
     "metadata": {
      "needs_background": "light"
     },
     "output_type": "display_data"
    }
   ],
   "source": [
    "var_corr_plot(data_train['BldgType'])"
   ]
  },
  {
   "cell_type": "markdown",
   "id": "b76c630f",
   "metadata": {
    "execution": {
     "iopub.execute_input": "2022-05-18T07:44:13.410791Z",
     "iopub.status.busy": "2022-05-18T07:44:13.410356Z",
     "iopub.status.idle": "2022-05-18T07:44:13.415477Z",
     "shell.execute_reply": "2022-05-18T07:44:13.414412Z",
     "shell.execute_reply.started": "2022-05-18T07:44:13.41076Z"
    },
    "papermill": {
     "duration": 0.044874,
     "end_time": "2022-05-18T12:12:23.026238",
     "exception": false,
     "start_time": "2022-05-18T12:12:22.981364",
     "status": "completed"
    },
    "tags": []
   },
   "source": [
    "* BldgType 这个指标和目标变量关联性不强，不考虑。"
   ]
  },
  {
   "cell_type": "code",
   "execution_count": 11,
   "id": "74d9a321",
   "metadata": {
    "execution": {
     "iopub.execute_input": "2022-05-18T12:12:23.119681Z",
     "iopub.status.busy": "2022-05-18T12:12:23.118791Z",
     "iopub.status.idle": "2022-05-18T12:12:23.348857Z",
     "shell.execute_reply": "2022-05-18T12:12:23.348022Z"
    },
    "papermill": {
     "duration": 0.28008,
     "end_time": "2022-05-18T12:12:23.351503",
     "exception": false,
     "start_time": "2022-05-18T12:12:23.071423",
     "status": "completed"
    },
    "tags": []
   },
   "outputs": [
    {
     "data": {
      "image/png": "[encoded data removed]",
      "text/plain": [
       "<Figure size 432x288 with 1 Axes>"
      ]
     },
     "metadata": {
      "needs_background": "light"
     },
     "output_type": "display_data"
    }
   ],
   "source": [
    "var_corr_plot(data_train['Heating'])"
   ]
  },
  {
   "cell_type": "markdown",
   "id": "757b15b3",
   "metadata": {
    "execution": {
     "iopub.execute_input": "2022-05-18T07:44:57.593347Z",
     "iopub.status.busy": "2022-05-18T07:44:57.593071Z",
     "iopub.status.idle": "2022-05-18T07:44:57.599339Z",
     "shell.execute_reply": "2022-05-18T07:44:57.598024Z",
     "shell.execute_reply.started": "2022-05-18T07:44:57.593319Z"
    },
    "papermill": {
     "duration": 0.053206,
     "end_time": "2022-05-18T12:12:23.450525",
     "exception": false,
     "start_time": "2022-05-18T12:12:23.397319",
     "status": "completed"
    },
    "tags": []
   },
   "source": [
    "*结论：Heating和目标变量关联性不大，不考虑"
   ]
  },
  {
   "cell_type": "code",
   "execution_count": 12,
   "id": "050afab1",
   "metadata": {
    "execution": {
     "iopub.execute_input": "2022-05-18T12:12:23.551746Z",
     "iopub.status.busy": "2022-05-18T12:12:23.551011Z",
     "iopub.status.idle": "2022-05-18T12:12:23.559815Z",
     "shell.execute_reply": "2022-05-18T12:12:23.559119Z"
    },
    "papermill": {
     "duration": 0.06268,
     "end_time": "2022-05-18T12:12:23.561677",
     "exception": false,
     "start_time": "2022-05-18T12:12:23.498997",
     "status": "completed"
    },
    "tags": []
   },
   "outputs": [
    {
     "data": {
      "text/plain": [
       "AllPub    1459\n",
       "NoSeWa       1\n",
       "Name: Utilities, dtype: int64"
      ]
     },
     "execution_count": 12,
     "metadata": {},
     "output_type": "execute_result"
    }
   ],
   "source": [
    "data_train['Utilities'].value_counts()"
   ]
  },
  {
   "cell_type": "markdown",
   "id": "46bf94e4",
   "metadata": {
    "execution": {
     "iopub.execute_input": "2022-05-18T07:45:42.182155Z",
     "iopub.status.busy": "2022-05-18T07:45:42.181742Z",
     "iopub.status.idle": "2022-05-18T07:45:42.188074Z",
     "shell.execute_reply": "2022-05-18T07:45:42.186796Z",
     "shell.execute_reply.started": "2022-05-18T07:45:42.182117Z"
    },
    "papermill": {
     "duration": 0.062708,
     "end_time": "2022-05-18T12:12:23.669991",
     "exception": false,
     "start_time": "2022-05-18T12:12:23.607283",
     "status": "completed"
    },
    "tags": []
   },
   "source": [
    "* 结论： Utility 特征值都是AllPub,不考虑此特征与特征变量的相关性。"
   ]
  },
  {
   "cell_type": "code",
   "execution_count": 13,
   "id": "a9c6bd89",
   "metadata": {
    "execution": {
     "iopub.execute_input": "2022-05-18T12:12:23.763765Z",
     "iopub.status.busy": "2022-05-18T12:12:23.763429Z",
     "iopub.status.idle": "2022-05-18T12:12:24.162816Z",
     "shell.execute_reply": "2022-05-18T12:12:24.161971Z"
    },
    "papermill": {
     "duration": 0.448559,
     "end_time": "2022-05-18T12:12:24.164948",
     "exception": false,
     "start_time": "2022-05-18T12:12:23.716389",
     "status": "completed"
    },
    "tags": []
   },
   "outputs": [
    {
     "data": {
      "image/png": "[encoded data removed]",
      "text/plain": [
       "<Figure size 432x288 with 1 Axes>"
      ]
     },
     "metadata": {
      "needs_background": "light"
     },
     "output_type": "display_data"
    }
   ],
   "source": [
    "var_corr_plot(data_train['OverallQual'])"
   ]
  },
  {
   "cell_type": "markdown",
   "id": "05362c46",
   "metadata": {
    "execution": {
     "iopub.execute_input": "2022-05-18T07:47:21.577837Z",
     "iopub.status.busy": "2022-05-18T07:47:21.577335Z",
     "iopub.status.idle": "2022-05-18T07:47:21.58442Z",
     "shell.execute_reply": "2022-05-18T07:47:21.583462Z",
     "shell.execute_reply.started": "2022-05-18T07:47:21.577793Z"
    },
    "papermill": {
     "duration": 0.052435,
     "end_time": "2022-05-18T12:12:24.264573",
     "exception": false,
     "start_time": "2022-05-18T12:12:24.212138",
     "status": "completed"
    },
    "tags": []
   },
   "source": [
    "* \"OveralQual\"是标识房屋整体材质的指标，数值越高级别越高，这个是强相关指标。"
   ]
  },
  {
   "cell_type": "code",
   "execution_count": 14,
   "id": "9eb5d32a",
   "metadata": {
    "execution": {
     "iopub.execute_input": "2022-05-18T12:12:24.360409Z",
     "iopub.status.busy": "2022-05-18T12:12:24.359562Z",
     "iopub.status.idle": "2022-05-18T12:12:24.837703Z",
     "shell.execute_reply": "2022-05-18T12:12:24.836846Z"
    },
    "papermill": {
     "duration": 0.527607,
     "end_time": "2022-05-18T12:12:24.839633",
     "exception": false,
     "start_time": "2022-05-18T12:12:24.312026",
     "status": "completed"
    },
    "tags": []
   },
   "outputs": [
    {
     "data": {
      "image/png": "[encoded data removed]",
      "text/plain": [
       "<Figure size 432x288 with 1 Axes>"
      ]
     },
     "metadata": {
      "needs_background": "light"
     },
     "output_type": "display_data"
    }
   ],
   "source": [
    "var_corr_plot(data_train['Neighborhood'])"
   ]
  },
  {
   "cell_type": "markdown",
   "id": "df43c418",
   "metadata": {
    "papermill": {
     "duration": 0.046951,
     "end_time": "2022-05-18T12:12:24.934517",
     "exception": false,
     "start_time": "2022-05-18T12:12:24.887566",
     "status": "completed"
    },
    "tags": []
   },
   "source": [
    "* Neighborhood 和价格关联性特征并不明显，不考虑"
   ]
  },
  {
   "cell_type": "code",
   "execution_count": 15,
   "id": "58d0f594",
   "metadata": {
    "execution": {
     "iopub.execute_input": "2022-05-18T12:12:25.034537Z",
     "iopub.status.busy": "2022-05-18T12:12:25.033762Z",
     "iopub.status.idle": "2022-05-18T12:12:25.268173Z",
     "shell.execute_reply": "2022-05-18T12:12:25.267407Z"
    },
    "papermill": {
     "duration": 0.286026,
     "end_time": "2022-05-18T12:12:25.270088",
     "exception": false,
     "start_time": "2022-05-18T12:12:24.984062",
     "status": "completed"
    },
    "tags": []
   },
   "outputs": [
    {
     "data": {
      "text/plain": [
       "<AxesSubplot:xlabel='YearBuilt', ylabel='SalePrice'>"
      ]
     },
     "execution_count": 15,
     "metadata": {},
     "output_type": "execute_result"
    },
    {
     "data": {
      "image/png": "[encoded data removed]",
      "text/plain": [
       "<Figure size 432x288 with 1 Axes>"
      ]
     },
     "metadata": {
      "needs_background": "light"
     },
     "output_type": "display_data"
    }
   ],
   "source": [
    "var=\"YearBuilt\"\n",
    "data = pd.concat([data_train['SalePrice'],data_train[var]],axis=1)\n",
    "data.plot.scatter(x=var,y=\"SalePrice\")"
   ]
  },
  {
   "cell_type": "markdown",
   "id": "ec1c64d4",
   "metadata": {
    "execution": {
     "iopub.execute_input": "2022-05-18T07:48:38.446162Z",
     "iopub.status.busy": "2022-05-18T07:48:38.445655Z",
     "iopub.status.idle": "2022-05-18T07:48:38.452122Z",
     "shell.execute_reply": "2022-05-18T07:48:38.450732Z",
     "shell.execute_reply.started": "2022-05-18T07:48:38.446132Z"
    },
    "papermill": {
     "duration": 0.048668,
     "end_time": "2022-05-18T12:12:25.368393",
     "exception": false,
     "start_time": "2022-05-18T12:12:25.319725",
     "status": "completed"
    },
    "tags": []
   },
   "source": [
    "* 修建年份和价格存在一定的相关性，保留此特征。"
   ]
  },
  {
   "cell_type": "code",
   "execution_count": 16,
   "id": "6f0952bc",
   "metadata": {
    "execution": {
     "iopub.execute_input": "2022-05-18T12:12:25.468748Z",
     "iopub.status.busy": "2022-05-18T12:12:25.467781Z",
     "iopub.status.idle": "2022-05-18T12:12:25.647881Z",
     "shell.execute_reply": "2022-05-18T12:12:25.647321Z"
    },
    "papermill": {
     "duration": 0.231906,
     "end_time": "2022-05-18T12:12:25.649696",
     "exception": false,
     "start_time": "2022-05-18T12:12:25.417790",
     "status": "completed"
    },
    "tags": []
   },
   "outputs": [
    {
     "data": {
      "text/plain": [
       "<AxesSubplot:xlabel='1stFlrSF', ylabel='SalePrice'>"
      ]
     },
     "execution_count": 16,
     "metadata": {},
     "output_type": "execute_result"
    },
    {
     "data": {
      "image/png": "[encoded data removed]",
      "text/plain": [
       "<Figure size 432x288 with 1 Axes>"
      ]
     },
     "metadata": {
      "needs_background": "light"
     },
     "output_type": "display_data"
    }
   ],
   "source": [
    "var=\"1stFlrSF\"\n",
    "data = pd.concat([data_train['SalePrice'],data_train[var]],axis=1)\n",
    "data.plot.scatter(x=var,y=\"SalePrice\")"
   ]
  },
  {
   "cell_type": "markdown",
   "id": "dfa05ef3",
   "metadata": {
    "papermill": {
     "duration": 0.049815,
     "end_time": "2022-05-18T12:12:25.749821",
     "exception": false,
     "start_time": "2022-05-18T12:12:25.700006",
     "status": "completed"
    },
    "tags": []
   },
   "source": [
    "* 结论：1stFlrSF 与目标变量线性相关，保留。"
   ]
  },
  {
   "cell_type": "code",
   "execution_count": 17,
   "id": "cc89e9e5",
   "metadata": {
    "execution": {
     "iopub.execute_input": "2022-05-18T12:12:25.852182Z",
     "iopub.status.busy": "2022-05-18T12:12:25.851732Z",
     "iopub.status.idle": "2022-05-18T12:12:26.035336Z",
     "shell.execute_reply": "2022-05-18T12:12:26.034787Z"
    },
    "papermill": {
     "duration": 0.236395,
     "end_time": "2022-05-18T12:12:26.037013",
     "exception": false,
     "start_time": "2022-05-18T12:12:25.800618",
     "status": "completed"
    },
    "tags": []
   },
   "outputs": [
    {
     "data": {
      "text/plain": [
       "<AxesSubplot:xlabel='GrLivArea', ylabel='SalePrice'>"
      ]
     },
     "execution_count": 17,
     "metadata": {},
     "output_type": "execute_result"
    },
    {
     "data": {
      "image/png": "[encoded data removed]",
      "text/plain": [
       "<Figure size 432x288 with 1 Axes>"
      ]
     },
     "metadata": {
      "needs_background": "light"
     },
     "output_type": "display_data"
    }
   ],
   "source": [
    "var=\"GrLivArea\"\n",
    "data = pd.concat([data_train['SalePrice'],data_train[var]],axis=1)\n",
    "data.plot.scatter(x=var,y=\"SalePrice\")"
   ]
  },
  {
   "cell_type": "markdown",
   "id": "dbeaab85",
   "metadata": {
    "execution": {
     "iopub.execute_input": "2022-05-18T07:50:21.567395Z",
     "iopub.status.busy": "2022-05-18T07:50:21.566375Z",
     "iopub.status.idle": "2022-05-18T07:50:21.573218Z",
     "shell.execute_reply": "2022-05-18T07:50:21.572201Z",
     "shell.execute_reply.started": "2022-05-18T07:50:21.567343Z"
    },
    "papermill": {
     "duration": 0.051769,
     "end_time": "2022-05-18T12:12:26.141119",
     "exception": false,
     "start_time": "2022-05-18T12:12:26.089350",
     "status": "completed"
    },
    "tags": []
   },
   "source": [
    "* 结论：GrLivArea 与目标变量线性相关，保留。"
   ]
  },
  {
   "cell_type": "code",
   "execution_count": 18,
   "id": "95d9d6a5",
   "metadata": {
    "execution": {
     "iopub.execute_input": "2022-05-18T12:12:26.245859Z",
     "iopub.status.busy": "2022-05-18T12:12:26.245398Z",
     "iopub.status.idle": "2022-05-18T12:12:26.423720Z",
     "shell.execute_reply": "2022-05-18T12:12:26.423179Z"
    },
    "papermill": {
     "duration": 0.232936,
     "end_time": "2022-05-18T12:12:26.425550",
     "exception": false,
     "start_time": "2022-05-18T12:12:26.192614",
     "status": "completed"
    },
    "tags": []
   },
   "outputs": [
    {
     "data": {
      "text/plain": [
       "<AxesSubplot:xlabel='LotArea', ylabel='SalePrice'>"
      ]
     },
     "execution_count": 18,
     "metadata": {},
     "output_type": "execute_result"
    },
    {
     "data": {
      "image/png": "[encoded data removed]",
      "text/plain": [
       "<Figure size 432x288 with 1 Axes>"
      ]
     },
     "metadata": {
      "needs_background": "light"
     },
     "output_type": "display_data"
    }
   ],
   "source": [
    "var=\"LotArea\"\n",
    "data = pd.concat([data_train['SalePrice'],data_train[var]],axis=1)\n",
    "data.plot.scatter(x=var,y=\"SalePrice\")"
   ]
  },
  {
   "cell_type": "markdown",
   "id": "6ca1d3db",
   "metadata": {
    "execution": {
     "iopub.execute_input": "2022-05-18T07:50:56.929704Z",
     "iopub.status.busy": "2022-05-18T07:50:56.929308Z",
     "iopub.status.idle": "2022-05-18T07:50:56.935802Z",
     "shell.execute_reply": "2022-05-18T07:50:56.934563Z",
     "shell.execute_reply.started": "2022-05-18T07:50:56.929671Z"
    },
    "papermill": {
     "duration": 0.052141,
     "end_time": "2022-05-18T12:12:26.529745",
     "exception": false,
     "start_time": "2022-05-18T12:12:26.477604",
     "status": "completed"
    },
    "tags": []
   },
   "source": [
    "* 结论：LotArea 与目标变量线性相关，保留。"
   ]
  },
  {
   "cell_type": "code",
   "execution_count": 19,
   "id": "ee9bb452",
   "metadata": {
    "execution": {
     "iopub.execute_input": "2022-05-18T12:12:26.635857Z",
     "iopub.status.busy": "2022-05-18T12:12:26.635402Z",
     "iopub.status.idle": "2022-05-18T12:12:26.832641Z",
     "shell.execute_reply": "2022-05-18T12:12:26.831724Z"
    },
    "papermill": {
     "duration": 0.252656,
     "end_time": "2022-05-18T12:12:26.834607",
     "exception": false,
     "start_time": "2022-05-18T12:12:26.581951",
     "status": "completed"
    },
    "tags": []
   },
   "outputs": [
    {
     "data": {
      "text/plain": [
       "<AxesSubplot:xlabel='TotalBsmtSF', ylabel='SalePrice'>"
      ]
     },
     "execution_count": 19,
     "metadata": {},
     "output_type": "execute_result"
    },
    {
     "data": {
      "image/png": "[encoded data removed]",
      "text/plain": [
       "<Figure size 432x288 with 1 Axes>"
      ]
     },
     "metadata": {
      "needs_background": "light"
     },
     "output_type": "display_data"
    }
   ],
   "source": [
    "var=\"TotalBsmtSF\"\n",
    "data = pd.concat([data_train['SalePrice'],data_train[var]],axis=1)\n",
    "data.plot.scatter(x=var,y=\"SalePrice\")"
   ]
  },
  {
   "cell_type": "markdown",
   "id": "d3b22b7b",
   "metadata": {
    "execution": {
     "iopub.execute_input": "2022-05-18T07:51:30.284826Z",
     "iopub.status.busy": "2022-05-18T07:51:30.28453Z",
     "iopub.status.idle": "2022-05-18T07:51:30.292067Z",
     "shell.execute_reply": "2022-05-18T07:51:30.290752Z",
     "shell.execute_reply.started": "2022-05-18T07:51:30.284794Z"
    },
    "papermill": {
     "duration": 0.060078,
     "end_time": "2022-05-18T12:12:26.948542",
     "exception": false,
     "start_time": "2022-05-18T12:12:26.888464",
     "status": "completed"
    },
    "tags": []
   },
   "source": [
    "* 结论：TotalBsMtSF 与目标变量线性相关，保留。"
   ]
  },
  {
   "cell_type": "code",
   "execution_count": 20,
   "id": "5b42adb8",
   "metadata": {
    "execution": {
     "iopub.execute_input": "2022-05-18T12:12:27.059446Z",
     "iopub.status.busy": "2022-05-18T12:12:27.058698Z",
     "iopub.status.idle": "2022-05-18T12:12:27.240613Z",
     "shell.execute_reply": "2022-05-18T12:12:27.240003Z"
    },
    "papermill": {
     "duration": 0.239823,
     "end_time": "2022-05-18T12:12:27.242272",
     "exception": false,
     "start_time": "2022-05-18T12:12:27.002449",
     "status": "completed"
    },
    "tags": []
   },
   "outputs": [
    {
     "data": {
      "text/plain": [
       "<AxesSubplot:xlabel='GrLivArea', ylabel='SalePrice'>"
      ]
     },
     "execution_count": 20,
     "metadata": {},
     "output_type": "execute_result"
    },
    {
     "data": {
      "image/png": "[encoded data removed]",
      "text/plain": [
       "<Figure size 432x288 with 1 Axes>"
      ]
     },
     "metadata": {
      "needs_background": "light"
     },
     "output_type": "display_data"
    }
   ],
   "source": [
    "var=\"GrLivArea\"\n",
    "data = pd.concat([data_train['SalePrice'],data_train[var]],axis=1)\n",
    "data.plot.scatter(x=var,y=\"SalePrice\")"
   ]
  },
  {
   "cell_type": "markdown",
   "id": "fef5735f",
   "metadata": {
    "papermill": {
     "duration": 0.054339,
     "end_time": "2022-05-18T12:12:27.351412",
     "exception": false,
     "start_time": "2022-05-18T12:12:27.297073",
     "status": "completed"
    },
    "tags": []
   },
   "source": [
    "* 结论：GrLivArea 与目标变量线性相关，保留。"
   ]
  },
  {
   "cell_type": "markdown",
   "id": "88c18da2",
   "metadata": {
    "papermill": {
     "duration": 0.054298,
     "end_time": "2022-05-18T12:12:27.460982",
     "exception": false,
     "start_time": "2022-05-18T12:12:27.406684",
     "status": "completed"
    },
    "tags": []
   },
   "source": []
  },
  {
   "cell_type": "markdown",
   "id": "96321cdf",
   "metadata": {
    "papermill": {
     "duration": 0.05495,
     "end_time": "2022-05-18T12:12:27.570187",
     "exception": false,
     "start_time": "2022-05-18T12:12:27.515237",
     "status": "completed"
    },
    "tags": []
   },
   "source": [
    "# * **小结:**\n",
    "1 目前从假定的13个相关特征，筛选到9个特征。\\\n",
    "2 连续型特征变量均与面积相关，猜测各个面积变量是否存在相关性，\\ \n",
    "      在后面的分析中再次确认。\n",
    "3 目前确定的变量如下：\n",
    "\n",
    "     \n",
    "| 特征变量 | 数据类型 | 含义 | \n",
    "| :-----| ----: | :----: \n",
    "| MSZoning | 分类 | 区域分类 |\n",
    "| LotArea | 连续 | 建筑面积 |\n",
    "| OverallQual| 分类 | 完工质量及用才 |\n",
    "| YearBuilt | 分类 | 完工年份 |\n",
    "| CentralAir | 分类 | 中央空调 |\n",
    "| 1stFlrSF | 连续 | 1层面积 |\n",
    "| GrLivArea | 连续 | 地面上生活区域 |\n",
    "| TotalBsMtSF | 连续 | 地下室面积 |"
   ]
  },
  {
   "cell_type": "markdown",
   "id": "da4abb50",
   "metadata": {
    "execution": {
     "iopub.execute_input": "2022-05-18T07:55:10.173972Z",
     "iopub.status.busy": "2022-05-18T07:55:10.173314Z",
     "iopub.status.idle": "2022-05-18T07:55:10.17855Z",
     "shell.execute_reply": "2022-05-18T07:55:10.177787Z",
     "shell.execute_reply.started": "2022-05-18T07:55:10.17391Z"
    },
    "papermill": {
     "duration": 0.054443,
     "end_time": "2022-05-18T12:12:27.679510",
     "exception": false,
     "start_time": "2022-05-18T12:12:27.625067",
     "status": "completed"
    },
    "tags": []
   },
   "source": [
    "# 3 深入探索数据关系，确认主要特征变量"
   ]
  },
  {
   "cell_type": "markdown",
   "id": "24ad02da",
   "metadata": {
    "execution": {
     "iopub.execute_input": "2022-05-18T07:55:42.163711Z",
     "iopub.status.busy": "2022-05-18T07:55:42.163162Z",
     "iopub.status.idle": "2022-05-18T07:55:42.169953Z",
     "shell.execute_reply": "2022-05-18T07:55:42.168814Z",
     "shell.execute_reply.started": "2022-05-18T07:55:42.163662Z"
    },
    "papermill": {
     "duration": 0.054436,
     "end_time": "2022-05-18T12:12:27.788149",
     "exception": false,
     "start_time": "2022-05-18T12:12:27.733713",
     "status": "completed"
    },
    "tags": []
   },
   "source": [
    "* 本阶段的主要任务： \n",
    "* 1 在步骤二的基础上，进一步筛选特征变量\n",
    "* 2 确定最终特征变量集"
   ]
  },
  {
   "cell_type": "markdown",
   "id": "c98c7f01",
   "metadata": {
    "papermill": {
     "duration": 0.05453,
     "end_time": "2022-05-18T12:12:27.897077",
     "exception": false,
     "start_time": "2022-05-18T12:12:27.842547",
     "status": "completed"
    },
    "tags": []
   },
   "source": []
  },
  {
   "cell_type": "code",
   "execution_count": 21,
   "id": "2d12ac39",
   "metadata": {
    "execution": {
     "iopub.execute_input": "2022-05-18T12:12:28.008910Z",
     "iopub.status.busy": "2022-05-18T12:12:28.008030Z",
     "iopub.status.idle": "2022-05-18T12:12:28.021861Z",
     "shell.execute_reply": "2022-05-18T12:12:28.021328Z"
    },
    "papermill": {
     "duration": 0.07172,
     "end_time": "2022-05-18T12:12:28.023580",
     "exception": false,
     "start_time": "2022-05-18T12:12:27.951860",
     "status": "completed"
    },
    "tags": []
   },
   "outputs": [
    {
     "data": {
      "text/plain": [
       "KitchenAbvGr    -0.135907\n",
       "EnclosedPorch   -0.128578\n",
       "MSSubClass      -0.084284\n",
       "OverallCond     -0.077856\n",
       "YrSold          -0.028923\n",
       "LowQualFinSF    -0.025606\n",
       "Id              -0.021917\n",
       "MiscVal         -0.021190\n",
       "BsmtHalfBath    -0.016844\n",
       "BsmtFinSF2      -0.011378\n",
       "3SsnPorch        0.044584\n",
       "MoSold           0.046432\n",
       "PoolArea         0.092404\n",
       "ScreenPorch      0.111447\n",
       "BedroomAbvGr     0.168213\n",
       "BsmtUnfSF        0.214479\n",
       "BsmtFullBath     0.227122\n",
       "LotArea          0.263843\n",
       "HalfBath         0.284108\n",
       "OpenPorchSF      0.315856\n",
       "2ndFlrSF         0.319334\n",
       "WoodDeckSF       0.324413\n",
       "LotFrontage      0.351799\n",
       "BsmtFinSF1       0.386420\n",
       "Fireplaces       0.466929\n",
       "MasVnrArea       0.477493\n",
       "GarageYrBlt      0.486362\n",
       "YearRemodAdd     0.507101\n",
       "YearBuilt        0.522897\n",
       "TotRmsAbvGrd     0.533723\n",
       "FullBath         0.560664\n",
       "1stFlrSF         0.605852\n",
       "TotalBsmtSF      0.613581\n",
       "GarageArea       0.623431\n",
       "GarageCars       0.640409\n",
       "GrLivArea        0.708624\n",
       "OverallQual      0.790982\n",
       "SalePrice        1.000000\n",
       "Name: SalePrice, dtype: float64"
      ]
     },
     "execution_count": 21,
     "metadata": {},
     "output_type": "execute_result"
    }
   ],
   "source": [
    "corrmat = data_train.corr()\n",
    "corrmat['SalePrice'].sort_values()"
   ]
  },
  {
   "cell_type": "code",
   "execution_count": 22,
   "id": "c8a89503",
   "metadata": {
    "execution": {
     "iopub.execute_input": "2022-05-18T12:12:28.136873Z",
     "iopub.status.busy": "2022-05-18T12:12:28.136454Z",
     "iopub.status.idle": "2022-05-18T12:12:29.016184Z",
     "shell.execute_reply": "2022-05-18T12:12:29.015322Z"
    },
    "papermill": {
     "duration": 0.93865,
     "end_time": "2022-05-18T12:12:29.018247",
     "exception": false,
     "start_time": "2022-05-18T12:12:28.079597",
     "status": "completed"
    },
    "tags": []
   },
   "outputs": [
    {
     "data": {
      "text/plain": [
       "<AxesSubplot:>"
      ]
     },
     "execution_count": 22,
     "metadata": {},
     "output_type": "execute_result"
    },
    {
     "data": {
      "image/png": "[encoded data removed]",
      "text/plain": [
       "<Figure size 1440x648 with 2 Axes>"
      ]
     },
     "metadata": {
      "needs_background": "light"
     },
     "output_type": "display_data"
    }
   ],
   "source": [
    "# 将Central 和Heating两个连续型变量做One-hot编码，查看相关性\n",
    "from sklearn import preprocessing\n",
    "f_names=['CentralAir','Heating']\n",
    "for x in f_names:\n",
    "    label= preprocessing.LabelEncoder()\n",
    "    data_train[x]= label.fit_transform(data_train[x])\n",
    "corrmat=data_train.corr()\n",
    "f,ax= plt.subplots(figsize=(20,9))\n",
    "sns.heatmap(corrmat,vmax=0.8,square=True)"
   ]
  },
  {
   "cell_type": "markdown",
   "id": "8e3fe836",
   "metadata": {
    "papermill": {
     "duration": 0.059124,
     "end_time": "2022-05-18T12:12:29.135794",
     "exception": false,
     "start_time": "2022-05-18T12:12:29.076670",
     "status": "completed"
    },
    "tags": []
   },
   "source": [
    "* 从热图可以看出很多，包括：\n",
    "* 1 OVerallQual相关性最高；\n",
    "* 2 GrLivArea，1stFIrSE相关性次之；\n",
    "* 3 LoTArea, CentralAir、NeighhbourHood 相关性比较低；"
   ]
  },
  {
   "cell_type": "markdown",
   "id": "ac8192d5",
   "metadata": {
    "papermill": {
     "duration": 0.058495,
     "end_time": "2022-05-18T12:12:29.253524",
     "exception": false,
     "start_time": "2022-05-18T12:12:29.195029",
     "status": "completed"
    },
    "tags": []
   },
   "source": [
    "* 注意：这里使用的是皮尔逊相关系数。皮尔逊系数的一个缺陷是Pearson相关系数的一个明显缺陷是，\\\n",
    "* 作为特征排序机制，他只对线性关系敏感。\n",
    "* 如果关系是非线性的，即便两个变量具有一一对应的关系，Pearson相关性也可能会接近0。"
   ]
  },
  {
   "cell_type": "code",
   "execution_count": 23,
   "id": "e03f3e31",
   "metadata": {
    "execution": {
     "iopub.execute_input": "2022-05-18T12:12:29.376143Z",
     "iopub.status.busy": "2022-05-18T12:12:29.375836Z",
     "iopub.status.idle": "2022-05-18T12:12:29.384116Z",
     "shell.execute_reply": "2022-05-18T12:12:29.383199Z"
    },
    "papermill": {
     "duration": 0.070459,
     "end_time": "2022-05-18T12:12:29.386048",
     "exception": false,
     "start_time": "2022-05-18T12:12:29.315589",
     "status": "completed"
    },
    "tags": []
   },
   "outputs": [
    {
     "data": {
      "text/plain": [
       "KitchenAbvGr    -0.135907\n",
       "EnclosedPorch   -0.128578\n",
       "Heating         -0.098812\n",
       "MSSubClass      -0.084284\n",
       "OverallCond     -0.077856\n",
       "YrSold          -0.028923\n",
       "LowQualFinSF    -0.025606\n",
       "Id              -0.021917\n",
       "MiscVal         -0.021190\n",
       "BsmtHalfBath    -0.016844\n",
       "BsmtFinSF2      -0.011378\n",
       "3SsnPorch        0.044584\n",
       "MoSold           0.046432\n",
       "PoolArea         0.092404\n",
       "ScreenPorch      0.111447\n",
       "BedroomAbvGr     0.168213\n",
       "BsmtUnfSF        0.214479\n",
       "BsmtFullBath     0.227122\n",
       "CentralAir       0.251328\n",
       "LotArea          0.263843\n",
       "HalfBath         0.284108\n",
       "OpenPorchSF      0.315856\n",
       "2ndFlrSF         0.319334\n",
       "WoodDeckSF       0.324413\n",
       "LotFrontage      0.351799\n",
       "BsmtFinSF1       0.386420\n",
       "Fireplaces       0.466929\n",
       "MasVnrArea       0.477493\n",
       "GarageYrBlt      0.486362\n",
       "YearRemodAdd     0.507101\n",
       "YearBuilt        0.522897\n",
       "TotRmsAbvGrd     0.533723\n",
       "FullBath         0.560664\n",
       "1stFlrSF         0.605852\n",
       "TotalBsmtSF      0.613581\n",
       "GarageArea       0.623431\n",
       "GarageCars       0.640409\n",
       "GrLivArea        0.708624\n",
       "OverallQual      0.790982\n",
       "SalePrice        1.000000\n",
       "Name: SalePrice, dtype: float64"
      ]
     },
     "execution_count": 23,
     "metadata": {},
     "output_type": "execute_result"
    }
   ],
   "source": [
    "corrmat['SalePrice'].sort_values()"
   ]
  },
  {
   "cell_type": "markdown",
   "id": "250e6d28",
   "metadata": {
    "execution": {
     "iopub.execute_input": "2022-05-18T08:00:42.793274Z",
     "iopub.status.busy": "2022-05-18T08:00:42.792975Z",
     "iopub.status.idle": "2022-05-18T08:00:42.800814Z",
     "shell.execute_reply": "2022-05-18T08:00:42.799469Z",
     "shell.execute_reply.started": "2022-05-18T08:00:42.793234Z"
    },
    "papermill": {
     "duration": 0.058034,
     "end_time": "2022-05-18T12:12:29.502498",
     "exception": false,
     "start_time": "2022-05-18T12:12:29.444464",
     "status": "completed"
    },
    "tags": []
   },
   "source": [
    "* 1 GraggeCars和GarageArea 相关性高，选择GarageCares；\\\n",
    " 2 新添加TotalBsMtSF 这个特征；\n",
    " \n",
    "| 特征变量 | 数据类型 | 含义 | \n",
    "| :-----| ----: | :----: \n",
    "| OverallQual| 分类 | 完工质量及用才 |\n",
    "| GrLivArea | 连续 | 地面上生活区域 |\n",
    "| GarageCars | 分类 | 完工年份 |\n",
    "| TotalBsMtSF | 连续 | 地下室面积 |\n",
    "| 1stFlrSF | 连续 | 1楼建筑面积 |\n",
    "| FullBath | 分类 | 浴室数量 |"
   ]
  },
  {
   "cell_type": "code",
   "execution_count": 24,
   "id": "6feeaf1f",
   "metadata": {
    "execution": {
     "iopub.execute_input": "2022-05-18T12:12:29.621368Z",
     "iopub.status.busy": "2022-05-18T12:12:29.620309Z",
     "iopub.status.idle": "2022-05-18T12:12:29.625022Z",
     "shell.execute_reply": "2022-05-18T12:12:29.624191Z"
    },
    "papermill": {
     "duration": 0.066199,
     "end_time": "2022-05-18T12:12:29.627066",
     "exception": false,
     "start_time": "2022-05-18T12:12:29.560867",
     "status": "completed"
    },
    "tags": []
   },
   "outputs": [],
   "source": [
    "columns=['OverallQual','GrLivArea','GarageCars','TotalBsmtSF','1stFlrSF','FullBath']"
   ]
  },
  {
   "cell_type": "markdown",
   "id": "f2decbff",
   "metadata": {
    "execution": {
     "iopub.execute_input": "2022-05-18T08:03:02.626721Z",
     "iopub.status.busy": "2022-05-18T08:03:02.626407Z",
     "iopub.status.idle": "2022-05-18T08:03:02.630512Z",
     "shell.execute_reply": "2022-05-18T08:03:02.629582Z",
     "shell.execute_reply.started": "2022-05-18T08:03:02.626686Z"
    },
    "papermill": {
     "duration": 0.058926,
     "end_time": "2022-05-18T12:12:29.744477",
     "exception": false,
     "start_time": "2022-05-18T12:12:29.685551",
     "status": "completed"
    },
    "tags": []
   },
   "source": [
    "# 4 利用线性回归模型，对已有数据进行训练"
   ]
  },
  {
   "cell_type": "code",
   "execution_count": 25,
   "id": "6bebf5d5",
   "metadata": {
    "execution": {
     "iopub.execute_input": "2022-05-18T12:12:29.863422Z",
     "iopub.status.busy": "2022-05-18T12:12:29.863122Z",
     "iopub.status.idle": "2022-05-18T12:12:30.154413Z",
     "shell.execute_reply": "2022-05-18T12:12:30.153537Z"
    },
    "papermill": {
     "duration": 0.353675,
     "end_time": "2022-05-18T12:12:30.156752",
     "exception": false,
     "start_time": "2022-05-18T12:12:29.803077",
     "status": "completed"
    },
    "tags": []
   },
   "outputs": [],
   "source": [
    "from sklearn.linear_model import LinearRegression as LR\n",
    "from sklearn import preprocessing\n",
    "from sklearn import linear_model, svm, gaussian_process\n",
    "from sklearn.ensemble import RandomForestRegressor\n",
    "from sklearn.model_selection import train_test_split\n",
    "from sklearn.metrics import mean_squared_error as MSE"
   ]
  },
  {
   "cell_type": "code",
   "execution_count": 26,
   "id": "770b7b1c",
   "metadata": {
    "execution": {
     "iopub.execute_input": "2022-05-18T12:12:30.277274Z",
     "iopub.status.busy": "2022-05-18T12:12:30.276356Z",
     "iopub.status.idle": "2022-05-18T12:12:30.290827Z",
     "shell.execute_reply": "2022-05-18T12:12:30.290233Z"
    },
    "papermill": {
     "duration": 0.076311,
     "end_time": "2022-05-18T12:12:30.292462",
     "exception": false,
     "start_time": "2022-05-18T12:12:30.216151",
     "status": "completed"
    },
    "tags": []
   },
   "outputs": [
    {
     "data": {
      "text/html": [
       "<div>\n",
       "<style scoped>\n",
       "    .dataframe tbody tr th:only-of-type {\n",
       "        vertical-align: middle;\n",
       "    }\n",
       "\n",
       "    .dataframe tbody tr th {\n",
       "        vertical-align: top;\n",
       "    }\n",
       "\n",
       "    .dataframe thead th {\n",
       "        text-align: right;\n",
       "    }\n",
       "</style>\n",
       "<table border=\"1\" class=\"dataframe\">\n",
       "  <thead>\n",
       "    <tr style=\"text-align: right;\">\n",
       "      <th></th>\n",
       "      <th>OverallQual</th>\n",
       "      <th>GrLivArea</th>\n",
       "      <th>GarageCars</th>\n",
       "      <th>TotalBsmtSF</th>\n",
       "      <th>1stFlrSF</th>\n",
       "      <th>FullBath</th>\n",
       "    </tr>\n",
       "  </thead>\n",
       "  <tbody>\n",
       "    <tr>\n",
       "      <th>0</th>\n",
       "      <td>7</td>\n",
       "      <td>1710</td>\n",
       "      <td>2</td>\n",
       "      <td>856</td>\n",
       "      <td>856</td>\n",
       "      <td>2</td>\n",
       "    </tr>\n",
       "    <tr>\n",
       "      <th>1</th>\n",
       "      <td>6</td>\n",
       "      <td>1262</td>\n",
       "      <td>2</td>\n",
       "      <td>1262</td>\n",
       "      <td>1262</td>\n",
       "      <td>2</td>\n",
       "    </tr>\n",
       "    <tr>\n",
       "      <th>2</th>\n",
       "      <td>7</td>\n",
       "      <td>1786</td>\n",
       "      <td>2</td>\n",
       "      <td>920</td>\n",
       "      <td>920</td>\n",
       "      <td>2</td>\n",
       "    </tr>\n",
       "    <tr>\n",
       "      <th>3</th>\n",
       "      <td>7</td>\n",
       "      <td>1717</td>\n",
       "      <td>3</td>\n",
       "      <td>756</td>\n",
       "      <td>961</td>\n",
       "      <td>1</td>\n",
       "    </tr>\n",
       "    <tr>\n",
       "      <th>4</th>\n",
       "      <td>8</td>\n",
       "      <td>2198</td>\n",
       "      <td>3</td>\n",
       "      <td>1145</td>\n",
       "      <td>1145</td>\n",
       "      <td>2</td>\n",
       "    </tr>\n",
       "    <tr>\n",
       "      <th>...</th>\n",
       "      <td>...</td>\n",
       "      <td>...</td>\n",
       "      <td>...</td>\n",
       "      <td>...</td>\n",
       "      <td>...</td>\n",
       "      <td>...</td>\n",
       "    </tr>\n",
       "    <tr>\n",
       "      <th>1455</th>\n",
       "      <td>6</td>\n",
       "      <td>1647</td>\n",
       "      <td>2</td>\n",
       "      <td>953</td>\n",
       "      <td>953</td>\n",
       "      <td>2</td>\n",
       "    </tr>\n",
       "    <tr>\n",
       "      <th>1456</th>\n",
       "      <td>6</td>\n",
       "      <td>2073</td>\n",
       "      <td>2</td>\n",
       "      <td>1542</td>\n",
       "      <td>2073</td>\n",
       "      <td>2</td>\n",
       "    </tr>\n",
       "    <tr>\n",
       "      <th>1457</th>\n",
       "      <td>7</td>\n",
       "      <td>2340</td>\n",
       "      <td>1</td>\n",
       "      <td>1152</td>\n",
       "      <td>1188</td>\n",
       "      <td>2</td>\n",
       "    </tr>\n",
       "    <tr>\n",
       "      <th>1458</th>\n",
       "      <td>5</td>\n",
       "      <td>1078</td>\n",
       "      <td>1</td>\n",
       "      <td>1078</td>\n",
       "      <td>1078</td>\n",
       "      <td>1</td>\n",
       "    </tr>\n",
       "    <tr>\n",
       "      <th>1459</th>\n",
       "      <td>5</td>\n",
       "      <td>1256</td>\n",
       "      <td>1</td>\n",
       "      <td>1256</td>\n",
       "      <td>1256</td>\n",
       "      <td>1</td>\n",
       "    </tr>\n",
       "  </tbody>\n",
       "</table>\n",
       "<p>1460 rows × 6 columns</p>\n",
       "</div>"
      ],
      "text/plain": [
       "      OverallQual  GrLivArea  GarageCars  TotalBsmtSF  1stFlrSF  FullBath\n",
       "0               7       1710           2          856       856         2\n",
       "1               6       1262           2         1262      1262         2\n",
       "2               7       1786           2          920       920         2\n",
       "3               7       1717           3          756       961         1\n",
       "4               8       2198           3         1145      1145         2\n",
       "...           ...        ...         ...          ...       ...       ...\n",
       "1455            6       1647           2          953       953         2\n",
       "1456            6       2073           2         1542      2073         2\n",
       "1457            7       2340           1         1152      1188         2\n",
       "1458            5       1078           1         1078      1078         1\n",
       "1459            5       1256           1         1256      1256         1\n",
       "\n",
       "[1460 rows x 6 columns]"
      ]
     },
     "metadata": {},
     "output_type": "display_data"
    },
    {
     "data": {
      "text/plain": [
       "array([[208500],\n",
       "       [181500],\n",
       "       [223500],\n",
       "       ...,\n",
       "       [266500],\n",
       "       [142125],\n",
       "       [147500]])"
      ]
     },
     "metadata": {},
     "output_type": "display_data"
    }
   ],
   "source": [
    "xtrain=data_train[columns]\n",
    "ytrain=data_train['SalePrice'].values.reshape(-1,1)\n",
    "display(xtrain)\n",
    "display(ytrain)"
   ]
  },
  {
   "cell_type": "markdown",
   "id": "7793094b",
   "metadata": {
    "papermill": {
     "duration": 0.059085,
     "end_time": "2022-05-18T12:12:30.411512",
     "exception": false,
     "start_time": "2022-05-18T12:12:30.352427",
     "status": "completed"
    },
    "tags": []
   },
   "source": [
    "## 4.1 使用sklearn的归一法对x和y进行处理"
   ]
  },
  {
   "cell_type": "code",
   "execution_count": 27,
   "id": "f67cd627",
   "metadata": {
    "execution": {
     "iopub.execute_input": "2022-05-18T12:12:30.532503Z",
     "iopub.status.busy": "2022-05-18T12:12:30.532038Z",
     "iopub.status.idle": "2022-05-18T12:12:30.563437Z",
     "shell.execute_reply": "2022-05-18T12:12:30.562788Z"
    },
    "papermill": {
     "duration": 0.094503,
     "end_time": "2022-05-18T12:12:30.565458",
     "exception": false,
     "start_time": "2022-05-18T12:12:30.470955",
     "status": "completed"
    },
    "tags": []
   },
   "outputs": [],
   "source": [
    "x_test= pd.read_csv(\"/kaggle/input/house-prices-advanced-regression-techniques/test.csv\")\n",
    "xtest=x_test[columns]"
   ]
  },
  {
   "cell_type": "code",
   "execution_count": 28,
   "id": "a825b6b0",
   "metadata": {
    "execution": {
     "iopub.execute_input": "2022-05-18T12:12:30.685663Z",
     "iopub.status.busy": "2022-05-18T12:12:30.685335Z",
     "iopub.status.idle": "2022-05-18T12:12:30.693244Z",
     "shell.execute_reply": "2022-05-18T12:12:30.692603Z"
    },
    "papermill": {
     "duration": 0.07009,
     "end_time": "2022-05-18T12:12:30.694995",
     "exception": false,
     "start_time": "2022-05-18T12:12:30.624905",
     "status": "completed"
    },
    "tags": []
   },
   "outputs": [
    {
     "data": {
      "text/plain": [
       "OverallQual    0\n",
       "GrLivArea      0\n",
       "GarageCars     1\n",
       "TotalBsmtSF    1\n",
       "1stFlrSF       0\n",
       "FullBath       0\n",
       "dtype: int64"
      ]
     },
     "execution_count": 28,
     "metadata": {},
     "output_type": "execute_result"
    }
   ],
   "source": [
    "xtest.isnull().sum()"
   ]
  },
  {
   "cell_type": "code",
   "execution_count": 29,
   "id": "21edfaf4",
   "metadata": {
    "execution": {
     "iopub.execute_input": "2022-05-18T12:12:30.818011Z",
     "iopub.status.busy": "2022-05-18T12:12:30.817529Z",
     "iopub.status.idle": "2022-05-18T12:12:30.822204Z",
     "shell.execute_reply": "2022-05-18T12:12:30.821613Z"
    },
    "papermill": {
     "duration": 0.068561,
     "end_time": "2022-05-18T12:12:30.824030",
     "exception": false,
     "start_time": "2022-05-18T12:12:30.755469",
     "status": "completed"
    },
    "tags": []
   },
   "outputs": [],
   "source": [
    "xtest[\"TotalBsmtSF\"].fillna(1046.11,inplace=True)\n",
    "xtest[\"GarageCars\"].fillna(1.76,inplace=True)"
   ]
  },
  {
   "cell_type": "code",
   "execution_count": 30,
   "id": "aa572231",
   "metadata": {
    "execution": {
     "iopub.execute_input": "2022-05-18T12:12:30.946850Z",
     "iopub.status.busy": "2022-05-18T12:12:30.946401Z",
     "iopub.status.idle": "2022-05-18T12:12:30.959704Z",
     "shell.execute_reply": "2022-05-18T12:12:30.958698Z"
    },
    "papermill": {
     "duration": 0.077526,
     "end_time": "2022-05-18T12:12:30.961782",
     "exception": false,
     "start_time": "2022-05-18T12:12:30.884256",
     "status": "completed"
    },
    "tags": []
   },
   "outputs": [
    {
     "data": {
      "text/html": [
       "<div>\n",
       "<style scoped>\n",
       "    .dataframe tbody tr th:only-of-type {\n",
       "        vertical-align: middle;\n",
       "    }\n",
       "\n",
       "    .dataframe tbody tr th {\n",
       "        vertical-align: top;\n",
       "    }\n",
       "\n",
       "    .dataframe thead th {\n",
       "        text-align: right;\n",
       "    }\n",
       "</style>\n",
       "<table border=\"1\" class=\"dataframe\">\n",
       "  <thead>\n",
       "    <tr style=\"text-align: right;\">\n",
       "      <th></th>\n",
       "      <th>OverallQual</th>\n",
       "      <th>GrLivArea</th>\n",
       "      <th>GarageCars</th>\n",
       "      <th>TotalBsmtSF</th>\n",
       "      <th>1stFlrSF</th>\n",
       "      <th>FullBath</th>\n",
       "    </tr>\n",
       "  </thead>\n",
       "  <tbody>\n",
       "    <tr>\n",
       "      <th>0</th>\n",
       "      <td>5</td>\n",
       "      <td>896</td>\n",
       "      <td>1.0</td>\n",
       "      <td>882.0</td>\n",
       "      <td>896</td>\n",
       "      <td>1</td>\n",
       "    </tr>\n",
       "    <tr>\n",
       "      <th>1</th>\n",
       "      <td>6</td>\n",
       "      <td>1329</td>\n",
       "      <td>1.0</td>\n",
       "      <td>1329.0</td>\n",
       "      <td>1329</td>\n",
       "      <td>1</td>\n",
       "    </tr>\n",
       "    <tr>\n",
       "      <th>2</th>\n",
       "      <td>5</td>\n",
       "      <td>1629</td>\n",
       "      <td>2.0</td>\n",
       "      <td>928.0</td>\n",
       "      <td>928</td>\n",
       "      <td>2</td>\n",
       "    </tr>\n",
       "    <tr>\n",
       "      <th>3</th>\n",
       "      <td>6</td>\n",
       "      <td>1604</td>\n",
       "      <td>2.0</td>\n",
       "      <td>926.0</td>\n",
       "      <td>926</td>\n",
       "      <td>2</td>\n",
       "    </tr>\n",
       "    <tr>\n",
       "      <th>4</th>\n",
       "      <td>8</td>\n",
       "      <td>1280</td>\n",
       "      <td>2.0</td>\n",
       "      <td>1280.0</td>\n",
       "      <td>1280</td>\n",
       "      <td>2</td>\n",
       "    </tr>\n",
       "    <tr>\n",
       "      <th>...</th>\n",
       "      <td>...</td>\n",
       "      <td>...</td>\n",
       "      <td>...</td>\n",
       "      <td>...</td>\n",
       "      <td>...</td>\n",
       "      <td>...</td>\n",
       "    </tr>\n",
       "    <tr>\n",
       "      <th>1454</th>\n",
       "      <td>4</td>\n",
       "      <td>1092</td>\n",
       "      <td>0.0</td>\n",
       "      <td>546.0</td>\n",
       "      <td>546</td>\n",
       "      <td>1</td>\n",
       "    </tr>\n",
       "    <tr>\n",
       "      <th>1455</th>\n",
       "      <td>4</td>\n",
       "      <td>1092</td>\n",
       "      <td>1.0</td>\n",
       "      <td>546.0</td>\n",
       "      <td>546</td>\n",
       "      <td>1</td>\n",
       "    </tr>\n",
       "    <tr>\n",
       "      <th>1456</th>\n",
       "      <td>5</td>\n",
       "      <td>1224</td>\n",
       "      <td>2.0</td>\n",
       "      <td>1224.0</td>\n",
       "      <td>1224</td>\n",
       "      <td>1</td>\n",
       "    </tr>\n",
       "    <tr>\n",
       "      <th>1457</th>\n",
       "      <td>5</td>\n",
       "      <td>970</td>\n",
       "      <td>0.0</td>\n",
       "      <td>912.0</td>\n",
       "      <td>970</td>\n",
       "      <td>1</td>\n",
       "    </tr>\n",
       "    <tr>\n",
       "      <th>1458</th>\n",
       "      <td>7</td>\n",
       "      <td>2000</td>\n",
       "      <td>3.0</td>\n",
       "      <td>996.0</td>\n",
       "      <td>996</td>\n",
       "      <td>2</td>\n",
       "    </tr>\n",
       "  </tbody>\n",
       "</table>\n",
       "<p>1459 rows × 6 columns</p>\n",
       "</div>"
      ],
      "text/plain": [
       "      OverallQual  GrLivArea  GarageCars  TotalBsmtSF  1stFlrSF  FullBath\n",
       "0               5        896         1.0        882.0       896         1\n",
       "1               6       1329         1.0       1329.0      1329         1\n",
       "2               5       1629         2.0        928.0       928         2\n",
       "3               6       1604         2.0        926.0       926         2\n",
       "4               8       1280         2.0       1280.0      1280         2\n",
       "...           ...        ...         ...          ...       ...       ...\n",
       "1454            4       1092         0.0        546.0       546         1\n",
       "1455            4       1092         1.0        546.0       546         1\n",
       "1456            5       1224         2.0       1224.0      1224         1\n",
       "1457            5        970         0.0        912.0       970         1\n",
       "1458            7       2000         3.0        996.0       996         2\n",
       "\n",
       "[1459 rows x 6 columns]"
      ]
     },
     "execution_count": 30,
     "metadata": {},
     "output_type": "execute_result"
    }
   ],
   "source": [
    "xtest"
   ]
  },
  {
   "cell_type": "code",
   "execution_count": 31,
   "id": "b850eaf7",
   "metadata": {
    "execution": {
     "iopub.execute_input": "2022-05-18T12:12:31.085100Z",
     "iopub.status.busy": "2022-05-18T12:12:31.084788Z",
     "iopub.status.idle": "2022-05-18T12:12:31.089056Z",
     "shell.execute_reply": "2022-05-18T12:12:31.088025Z"
    },
    "papermill": {
     "duration": 0.068925,
     "end_time": "2022-05-18T12:12:31.091039",
     "exception": false,
     "start_time": "2022-05-18T12:12:31.022114",
     "status": "completed"
    },
    "tags": []
   },
   "outputs": [],
   "source": [
    "# 利用在训练集中的对y的log1p()模型"
   ]
  },
  {
   "cell_type": "code",
   "execution_count": 32,
   "id": "ad9a2aca",
   "metadata": {
    "execution": {
     "iopub.execute_input": "2022-05-18T12:12:31.213381Z",
     "iopub.status.busy": "2022-05-18T12:12:31.213131Z",
     "iopub.status.idle": "2022-05-18T12:12:31.232917Z",
     "shell.execute_reply": "2022-05-18T12:12:31.231976Z"
    },
    "papermill": {
     "duration": 0.083352,
     "end_time": "2022-05-18T12:12:31.234965",
     "exception": false,
     "start_time": "2022-05-18T12:12:31.151613",
     "status": "completed"
    },
    "tags": []
   },
   "outputs": [
    {
     "data": {
      "text/plain": [
       "array([1.25419186e-01, 1.72762940e-04, 1.13960505e-01, 1.22932488e-04,\n",
       "       3.75829472e-05, 3.97406655e-02])"
      ]
     },
     "execution_count": 32,
     "metadata": {},
     "output_type": "execute_result"
    }
   ],
   "source": [
    "ytrain_log1p=np.log1p(data_train[\"SalePrice\"])\n",
    "model_log1p = LR().fit(xtrain, ytrain_log1p)\n",
    "model_log1p.coef_"
   ]
  },
  {
   "cell_type": "code",
   "execution_count": 33,
   "id": "4b3c66e2",
   "metadata": {
    "execution": {
     "iopub.execute_input": "2022-05-18T12:12:31.359969Z",
     "iopub.status.busy": "2022-05-18T12:12:31.359689Z",
     "iopub.status.idle": "2022-05-18T12:12:31.367613Z",
     "shell.execute_reply": "2022-05-18T12:12:31.366699Z"
    },
    "papermill": {
     "duration": 0.072535,
     "end_time": "2022-05-18T12:12:31.369688",
     "exception": false,
     "start_time": "2022-05-18T12:12:31.297153",
     "status": "completed"
    },
    "tags": []
   },
   "outputs": [
    {
     "data": {
      "text/plain": [
       "array([11.63769727, 11.90914705, 11.92489123, ..., 11.86269414,\n",
       "       11.54299034, 12.3647002 ])"
      ]
     },
     "execution_count": 33,
     "metadata": {},
     "output_type": "execute_result"
    }
   ],
   "source": [
    "ytest=model_log1p.predict(xtest)\n",
    "ytest"
   ]
  },
  {
   "cell_type": "code",
   "execution_count": 34,
   "id": "f70ca0a4",
   "metadata": {
    "execution": {
     "iopub.execute_input": "2022-05-18T12:12:31.492979Z",
     "iopub.status.busy": "2022-05-18T12:12:31.492702Z",
     "iopub.status.idle": "2022-05-18T12:12:31.508984Z",
     "shell.execute_reply": "2022-05-18T12:12:31.508018Z"
    },
    "papermill": {
     "duration": 0.080571,
     "end_time": "2022-05-18T12:12:31.511039",
     "exception": false,
     "start_time": "2022-05-18T12:12:31.430468",
     "status": "completed"
    },
    "tags": []
   },
   "outputs": [
    {
     "data": {
      "text/html": [
       "<div>\n",
       "<style scoped>\n",
       "    .dataframe tbody tr th:only-of-type {\n",
       "        vertical-align: middle;\n",
       "    }\n",
       "\n",
       "    .dataframe tbody tr th {\n",
       "        vertical-align: top;\n",
       "    }\n",
       "\n",
       "    .dataframe thead th {\n",
       "        text-align: right;\n",
       "    }\n",
       "</style>\n",
       "<table border=\"1\" class=\"dataframe\">\n",
       "  <thead>\n",
       "    <tr style=\"text-align: right;\">\n",
       "      <th></th>\n",
       "      <th>OverallQual</th>\n",
       "      <th>GrLivArea</th>\n",
       "      <th>GarageCars</th>\n",
       "      <th>TotalBsmtSF</th>\n",
       "      <th>1stFlrSF</th>\n",
       "      <th>FullBath</th>\n",
       "      <th>SalePrice</th>\n",
       "    </tr>\n",
       "  </thead>\n",
       "  <tbody>\n",
       "    <tr>\n",
       "      <th>0</th>\n",
       "      <td>5</td>\n",
       "      <td>896</td>\n",
       "      <td>1.0</td>\n",
       "      <td>882.0</td>\n",
       "      <td>896</td>\n",
       "      <td>1</td>\n",
       "      <td>113287.990592</td>\n",
       "    </tr>\n",
       "    <tr>\n",
       "      <th>1</th>\n",
       "      <td>6</td>\n",
       "      <td>1329</td>\n",
       "      <td>1.0</td>\n",
       "      <td>1329.0</td>\n",
       "      <td>1329</td>\n",
       "      <td>1</td>\n",
       "      <td>148618.859944</td>\n",
       "    </tr>\n",
       "    <tr>\n",
       "      <th>2</th>\n",
       "      <td>5</td>\n",
       "      <td>1629</td>\n",
       "      <td>2.0</td>\n",
       "      <td>928.0</td>\n",
       "      <td>928</td>\n",
       "      <td>2</td>\n",
       "      <td>150977.274233</td>\n",
       "    </tr>\n",
       "    <tr>\n",
       "      <th>3</th>\n",
       "      <td>6</td>\n",
       "      <td>1604</td>\n",
       "      <td>2.0</td>\n",
       "      <td>926.0</td>\n",
       "      <td>926</td>\n",
       "      <td>2</td>\n",
       "      <td>170359.201711</td>\n",
       "    </tr>\n",
       "    <tr>\n",
       "      <th>4</th>\n",
       "      <td>8</td>\n",
       "      <td>1280</td>\n",
       "      <td>2.0</td>\n",
       "      <td>1280.0</td>\n",
       "      <td>1280</td>\n",
       "      <td>2</td>\n",
       "      <td>219114.869265</td>\n",
       "    </tr>\n",
       "    <tr>\n",
       "      <th>...</th>\n",
       "      <td>...</td>\n",
       "      <td>...</td>\n",
       "      <td>...</td>\n",
       "      <td>...</td>\n",
       "      <td>...</td>\n",
       "      <td>...</td>\n",
       "      <td>...</td>\n",
       "    </tr>\n",
       "    <tr>\n",
       "      <th>1454</th>\n",
       "      <td>4</td>\n",
       "      <td>1092</td>\n",
       "      <td>0.0</td>\n",
       "      <td>546.0</td>\n",
       "      <td>546</td>\n",
       "      <td>1</td>\n",
       "      <td>87352.621017</td>\n",
       "    </tr>\n",
       "    <tr>\n",
       "      <th>1455</th>\n",
       "      <td>4</td>\n",
       "      <td>1092</td>\n",
       "      <td>1.0</td>\n",
       "      <td>546.0</td>\n",
       "      <td>546</td>\n",
       "      <td>1</td>\n",
       "      <td>97896.889855</td>\n",
       "    </tr>\n",
       "    <tr>\n",
       "      <th>1456</th>\n",
       "      <td>5</td>\n",
       "      <td>1224</td>\n",
       "      <td>2.0</td>\n",
       "      <td>1224.0</td>\n",
       "      <td>1224</td>\n",
       "      <td>1</td>\n",
       "      <td>141872.931953</td>\n",
       "    </tr>\n",
       "    <tr>\n",
       "      <th>1457</th>\n",
       "      <td>5</td>\n",
       "      <td>970</td>\n",
       "      <td>0.0</td>\n",
       "      <td>912.0</td>\n",
       "      <td>970</td>\n",
       "      <td>1</td>\n",
       "      <td>103051.138356</td>\n",
       "    </tr>\n",
       "    <tr>\n",
       "      <th>1458</th>\n",
       "      <td>7</td>\n",
       "      <td>2000</td>\n",
       "      <td>3.0</td>\n",
       "      <td>996.0</td>\n",
       "      <td>996</td>\n",
       "      <td>2</td>\n",
       "      <td>234379.280177</td>\n",
       "    </tr>\n",
       "  </tbody>\n",
       "</table>\n",
       "<p>1459 rows × 7 columns</p>\n",
       "</div>"
      ],
      "text/plain": [
       "      OverallQual  GrLivArea  GarageCars  TotalBsmtSF  1stFlrSF  FullBath  \\\n",
       "0               5        896         1.0        882.0       896         1   \n",
       "1               6       1329         1.0       1329.0      1329         1   \n",
       "2               5       1629         2.0        928.0       928         2   \n",
       "3               6       1604         2.0        926.0       926         2   \n",
       "4               8       1280         2.0       1280.0      1280         2   \n",
       "...           ...        ...         ...          ...       ...       ...   \n",
       "1454            4       1092         0.0        546.0       546         1   \n",
       "1455            4       1092         1.0        546.0       546         1   \n",
       "1456            5       1224         2.0       1224.0      1224         1   \n",
       "1457            5        970         0.0        912.0       970         1   \n",
       "1458            7       2000         3.0        996.0       996         2   \n",
       "\n",
       "          SalePrice  \n",
       "0     113287.990592  \n",
       "1     148618.859944  \n",
       "2     150977.274233  \n",
       "3     170359.201711  \n",
       "4     219114.869265  \n",
       "...             ...  \n",
       "1454   87352.621017  \n",
       "1455   97896.889855  \n",
       "1456  141872.931953  \n",
       "1457  103051.138356  \n",
       "1458  234379.280177  \n",
       "\n",
       "[1459 rows x 7 columns]"
      ]
     },
     "execution_count": 34,
     "metadata": {},
     "output_type": "execute_result"
    }
   ],
   "source": [
    "# 对之前的log1p()做逆运算\n",
    "xtest['SalePrice']= np.expm1(ytest)\n",
    "xtest"
   ]
  },
  {
   "cell_type": "code",
   "execution_count": 35,
   "id": "719da06c",
   "metadata": {
    "execution": {
     "iopub.execute_input": "2022-05-18T12:12:31.635158Z",
     "iopub.status.busy": "2022-05-18T12:12:31.634870Z",
     "iopub.status.idle": "2022-05-18T12:12:31.646921Z",
     "shell.execute_reply": "2022-05-18T12:12:31.646004Z"
    },
    "papermill": {
     "duration": 0.076436,
     "end_time": "2022-05-18T12:12:31.648875",
     "exception": false,
     "start_time": "2022-05-18T12:12:31.572439",
     "status": "completed"
    },
    "tags": []
   },
   "outputs": [
    {
     "data": {
      "text/html": [
       "<div>\n",
       "<style scoped>\n",
       "    .dataframe tbody tr th:only-of-type {\n",
       "        vertical-align: middle;\n",
       "    }\n",
       "\n",
       "    .dataframe tbody tr th {\n",
       "        vertical-align: top;\n",
       "    }\n",
       "\n",
       "    .dataframe thead th {\n",
       "        text-align: right;\n",
       "    }\n",
       "</style>\n",
       "<table border=\"1\" class=\"dataframe\">\n",
       "  <thead>\n",
       "    <tr style=\"text-align: right;\">\n",
       "      <th></th>\n",
       "      <th>Id</th>\n",
       "      <th>SalePrice</th>\n",
       "    </tr>\n",
       "  </thead>\n",
       "  <tbody>\n",
       "    <tr>\n",
       "      <th>0</th>\n",
       "      <td>1461</td>\n",
       "      <td>113287.990592</td>\n",
       "    </tr>\n",
       "    <tr>\n",
       "      <th>1</th>\n",
       "      <td>1462</td>\n",
       "      <td>148618.859944</td>\n",
       "    </tr>\n",
       "    <tr>\n",
       "      <th>2</th>\n",
       "      <td>1463</td>\n",
       "      <td>150977.274233</td>\n",
       "    </tr>\n",
       "    <tr>\n",
       "      <th>3</th>\n",
       "      <td>1464</td>\n",
       "      <td>170359.201711</td>\n",
       "    </tr>\n",
       "    <tr>\n",
       "      <th>4</th>\n",
       "      <td>1465</td>\n",
       "      <td>219114.869265</td>\n",
       "    </tr>\n",
       "    <tr>\n",
       "      <th>...</th>\n",
       "      <td>...</td>\n",
       "      <td>...</td>\n",
       "    </tr>\n",
       "    <tr>\n",
       "      <th>1454</th>\n",
       "      <td>2915</td>\n",
       "      <td>87352.621017</td>\n",
       "    </tr>\n",
       "    <tr>\n",
       "      <th>1455</th>\n",
       "      <td>2916</td>\n",
       "      <td>97896.889855</td>\n",
       "    </tr>\n",
       "    <tr>\n",
       "      <th>1456</th>\n",
       "      <td>2917</td>\n",
       "      <td>141872.931953</td>\n",
       "    </tr>\n",
       "    <tr>\n",
       "      <th>1457</th>\n",
       "      <td>2918</td>\n",
       "      <td>103051.138356</td>\n",
       "    </tr>\n",
       "    <tr>\n",
       "      <th>1458</th>\n",
       "      <td>2919</td>\n",
       "      <td>234379.280177</td>\n",
       "    </tr>\n",
       "  </tbody>\n",
       "</table>\n",
       "<p>1459 rows × 2 columns</p>\n",
       "</div>"
      ],
      "text/plain": [
       "        Id      SalePrice\n",
       "0     1461  113287.990592\n",
       "1     1462  148618.859944\n",
       "2     1463  150977.274233\n",
       "3     1464  170359.201711\n",
       "4     1465  219114.869265\n",
       "...    ...            ...\n",
       "1454  2915   87352.621017\n",
       "1455  2916   97896.889855\n",
       "1456  2917  141872.931953\n",
       "1457  2918  103051.138356\n",
       "1458  2919  234379.280177\n",
       "\n",
       "[1459 rows x 2 columns]"
      ]
     },
     "execution_count": 35,
     "metadata": {},
     "output_type": "execute_result"
    }
   ],
   "source": [
    "result=pd.concat([x_test['Id'],xtest['SalePrice']],axis=1)\n",
    "result"
   ]
  },
  {
   "cell_type": "code",
   "execution_count": 36,
   "id": "4e058b08",
   "metadata": {
    "execution": {
     "iopub.execute_input": "2022-05-18T12:12:31.773755Z",
     "iopub.status.busy": "2022-05-18T12:12:31.773492Z",
     "iopub.status.idle": "2022-05-18T12:12:31.783585Z",
     "shell.execute_reply": "2022-05-18T12:12:31.782901Z"
    },
    "papermill": {
     "duration": 0.075283,
     "end_time": "2022-05-18T12:12:31.786034",
     "exception": false,
     "start_time": "2022-05-18T12:12:31.710751",
     "status": "completed"
    },
    "tags": []
   },
   "outputs": [],
   "source": [
    "result.to_csv('house_price_resultv1.csv', index=False)"
   ]
  }
 ],
 "metadata": {
  "kernelspec": {
   "display_name": "Python 3",
   "language": "python",
   "name": "python3"
  },
  "language_info": {
   "codemirror_mode": {
    "name": "ipython",
    "version": 3
   },
   "file_extension": ".py",
   "mimetype": "text/x-python",
   "name": "python",
   "nbconvert_exporter": "python",
   "pygments_lexer": "ipython3",
   "version": "3.7.12"
  },
  "papermill": {
   "default_parameters": {},
   "duration": 22.212017,
   "end_time": "2022-05-18T12:12:32.683765",
   "environment_variables": {},
   "exception": null,
   "input_path": "__notebook__.ipynb",
   "output_path": "__notebook__.ipynb",
   "parameters": {},
   "start_time": "2022-05-18T12:12:10.471748",
   "version": "2.3.4"
  }
 },
 "nbformat": 4,
 "nbformat_minor": 5
}
