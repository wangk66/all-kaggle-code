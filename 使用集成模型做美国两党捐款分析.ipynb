{
 "cells": [
  {
   "cell_type": "code",
   "execution_count": null,
   "metadata": {},
   "outputs": [],
   "source": [
    "# 04/01\n",
    "#数据表https://s3.amazonaws.com/dq-blog-files/input.csv\n",
    "#中文版本文章https://zhuanlan.zhihu.com/p/32949396 "
   ]
  },
  {
   "cell_type": "code",
   "execution_count": 58,
   "metadata": {},
   "outputs": [
    {
     "data": {
      "text/html": [
       "<div>\n",
       "<style scoped>\n",
       "    .dataframe tbody tr th:only-of-type {\n",
       "        vertical-align: middle;\n",
       "    }\n",
       "\n",
       "    .dataframe tbody tr th {\n",
       "        vertical-align: top;\n",
       "    }\n",
       "\n",
       "    .dataframe thead th {\n",
       "        text-align: right;\n",
       "    }\n",
       "</style>\n",
       "<table border=\"1\" class=\"dataframe\">\n",
       "  <thead>\n",
       "    <tr style=\"text-align: right;\">\n",
       "      <th></th>\n",
       "      <th>cand_pty_affiliation</th>\n",
       "      <th>cand_office_st</th>\n",
       "      <th>cand_office</th>\n",
       "      <th>cand_status</th>\n",
       "      <th>rpt_tp</th>\n",
       "      <th>transaction_tp</th>\n",
       "      <th>entity_tp</th>\n",
       "      <th>state</th>\n",
       "      <th>classification</th>\n",
       "      <th>cycle</th>\n",
       "      <th>transaction_amt</th>\n",
       "    </tr>\n",
       "  </thead>\n",
       "  <tbody>\n",
       "    <tr>\n",
       "      <th>0</th>\n",
       "      <td>REP</td>\n",
       "      <td>US</td>\n",
       "      <td>P</td>\n",
       "      <td>C</td>\n",
       "      <td>Q3</td>\n",
       "      <td>15</td>\n",
       "      <td>IND</td>\n",
       "      <td>NY</td>\n",
       "      <td>Engineer</td>\n",
       "      <td>2016.0</td>\n",
       "      <td>500.0</td>\n",
       "    </tr>\n",
       "    <tr>\n",
       "      <th>1</th>\n",
       "      <td>DEM</td>\n",
       "      <td>US</td>\n",
       "      <td>P</td>\n",
       "      <td>C</td>\n",
       "      <td>M5</td>\n",
       "      <td>15E</td>\n",
       "      <td>IND</td>\n",
       "      <td>OR</td>\n",
       "      <td>Math-Stat</td>\n",
       "      <td>2016.0</td>\n",
       "      <td>50.0</td>\n",
       "    </tr>\n",
       "    <tr>\n",
       "      <th>2</th>\n",
       "      <td>DEM</td>\n",
       "      <td>US</td>\n",
       "      <td>P</td>\n",
       "      <td>C</td>\n",
       "      <td>M3</td>\n",
       "      <td>15</td>\n",
       "      <td>IND</td>\n",
       "      <td>TX</td>\n",
       "      <td>Scientist</td>\n",
       "      <td>2008.0</td>\n",
       "      <td>250.0</td>\n",
       "    </tr>\n",
       "    <tr>\n",
       "      <th>3</th>\n",
       "      <td>DEM</td>\n",
       "      <td>US</td>\n",
       "      <td>P</td>\n",
       "      <td>C</td>\n",
       "      <td>Q2</td>\n",
       "      <td>15E</td>\n",
       "      <td>IND</td>\n",
       "      <td>IN</td>\n",
       "      <td>Math-Stat</td>\n",
       "      <td>2016.0</td>\n",
       "      <td>250.0</td>\n",
       "    </tr>\n",
       "    <tr>\n",
       "      <th>4</th>\n",
       "      <td>REP</td>\n",
       "      <td>US</td>\n",
       "      <td>P</td>\n",
       "      <td>C</td>\n",
       "      <td>12G</td>\n",
       "      <td>15</td>\n",
       "      <td>IND</td>\n",
       "      <td>MA</td>\n",
       "      <td>Engineer</td>\n",
       "      <td>2016.0</td>\n",
       "      <td>184.0</td>\n",
       "    </tr>\n",
       "    <tr>\n",
       "      <th>...</th>\n",
       "      <td>...</td>\n",
       "      <td>...</td>\n",
       "      <td>...</td>\n",
       "      <td>...</td>\n",
       "      <td>...</td>\n",
       "      <td>...</td>\n",
       "      <td>...</td>\n",
       "      <td>...</td>\n",
       "      <td>...</td>\n",
       "      <td>...</td>\n",
       "      <td>...</td>\n",
       "    </tr>\n",
       "    <tr>\n",
       "      <th>99995</th>\n",
       "      <td>DEM</td>\n",
       "      <td>MO</td>\n",
       "      <td>S</td>\n",
       "      <td>C</td>\n",
       "      <td>12G</td>\n",
       "      <td>15E</td>\n",
       "      <td>IND</td>\n",
       "      <td>MA</td>\n",
       "      <td>Engineer</td>\n",
       "      <td>2016.0</td>\n",
       "      <td>100.0</td>\n",
       "    </tr>\n",
       "    <tr>\n",
       "      <th>99996</th>\n",
       "      <td>DEM</td>\n",
       "      <td>CA</td>\n",
       "      <td>H</td>\n",
       "      <td>C</td>\n",
       "      <td>30G</td>\n",
       "      <td>15</td>\n",
       "      <td>IND</td>\n",
       "      <td>CA</td>\n",
       "      <td>Engineer</td>\n",
       "      <td>2010.0</td>\n",
       "      <td>500.0</td>\n",
       "    </tr>\n",
       "    <tr>\n",
       "      <th>99997</th>\n",
       "      <td>DEM</td>\n",
       "      <td>US</td>\n",
       "      <td>P</td>\n",
       "      <td>C</td>\n",
       "      <td>M6</td>\n",
       "      <td>15</td>\n",
       "      <td>IND</td>\n",
       "      <td>NJ</td>\n",
       "      <td>Engineer</td>\n",
       "      <td>2016.0</td>\n",
       "      <td>250.0</td>\n",
       "    </tr>\n",
       "    <tr>\n",
       "      <th>99998</th>\n",
       "      <td>DEM</td>\n",
       "      <td>US</td>\n",
       "      <td>P</td>\n",
       "      <td>C</td>\n",
       "      <td>12G</td>\n",
       "      <td>15</td>\n",
       "      <td>IND</td>\n",
       "      <td>CO</td>\n",
       "      <td>Scientist</td>\n",
       "      <td>2016.0</td>\n",
       "      <td>25.0</td>\n",
       "    </tr>\n",
       "    <tr>\n",
       "      <th>99999</th>\n",
       "      <td>DEM</td>\n",
       "      <td>US</td>\n",
       "      <td>P</td>\n",
       "      <td>C</td>\n",
       "      <td>Q3</td>\n",
       "      <td>15</td>\n",
       "      <td>IND</td>\n",
       "      <td>CA</td>\n",
       "      <td>Scientist</td>\n",
       "      <td>2016.0</td>\n",
       "      <td>500.0</td>\n",
       "    </tr>\n",
       "  </tbody>\n",
       "</table>\n",
       "<p>100000 rows × 11 columns</p>\n",
       "</div>"
      ],
      "text/plain": [
       "      cand_pty_affiliation cand_office_st cand_office cand_status rpt_tp  \\\n",
       "0                      REP             US           P           C     Q3   \n",
       "1                      DEM             US           P           C     M5   \n",
       "2                      DEM             US           P           C     M3   \n",
       "3                      DEM             US           P           C     Q2   \n",
       "4                      REP             US           P           C    12G   \n",
       "...                    ...            ...         ...         ...    ...   \n",
       "99995                  DEM             MO           S           C    12G   \n",
       "99996                  DEM             CA           H           C    30G   \n",
       "99997                  DEM             US           P           C     M6   \n",
       "99998                  DEM             US           P           C    12G   \n",
       "99999                  DEM             US           P           C     Q3   \n",
       "\n",
       "      transaction_tp entity_tp state classification   cycle  transaction_amt  \n",
       "0                 15       IND    NY       Engineer  2016.0            500.0  \n",
       "1                15E       IND    OR      Math-Stat  2016.0             50.0  \n",
       "2                 15       IND    TX      Scientist  2008.0            250.0  \n",
       "3                15E       IND    IN      Math-Stat  2016.0            250.0  \n",
       "4                 15       IND    MA       Engineer  2016.0            184.0  \n",
       "...              ...       ...   ...            ...     ...              ...  \n",
       "99995            15E       IND    MA       Engineer  2016.0            100.0  \n",
       "99996             15       IND    CA       Engineer  2010.0            500.0  \n",
       "99997             15       IND    NJ       Engineer  2016.0            250.0  \n",
       "99998             15       IND    CO      Scientist  2016.0             25.0  \n",
       "99999             15       IND    CA      Scientist  2016.0            500.0  \n",
       "\n",
       "[100000 rows x 11 columns]"
      ]
     },
     "execution_count": 58,
     "metadata": {},
     "output_type": "execute_result"
    }
   ],
   "source": [
    "import numpy as np\n",
    "import pandas as pd\n",
    "import warnings\n",
    "warnings.filterwarnings('ignore')\n",
    "import seaborn as sns\n",
    "\n",
    "import matplotlib.pyplot as plt\n",
    "%matplotlib inline\n",
    "\n",
    "### Import data\n",
    "# Always good to set a seed for reproducibility\n",
    "SEED = 222\n",
    "np.random.seed(SEED)\n",
    "\n",
    "df = pd.read_csv('c:/csv/input.csv')\n",
    "df"
   ]
  },
  {
   "cell_type": "code",
   "execution_count": 2,
   "metadata": {},
   "outputs": [
    {
     "name": "stdout",
     "output_type": "stream",
     "text": [
      "\n",
      "Example data:\n"
     ]
    },
    {
     "data": {
      "text/html": [
       "<div>\n",
       "<style scoped>\n",
       "    .dataframe tbody tr th:only-of-type {\n",
       "        vertical-align: middle;\n",
       "    }\n",
       "\n",
       "    .dataframe tbody tr th {\n",
       "        vertical-align: top;\n",
       "    }\n",
       "\n",
       "    .dataframe thead th {\n",
       "        text-align: right;\n",
       "    }\n",
       "</style>\n",
       "<table border=\"1\" class=\"dataframe\">\n",
       "  <thead>\n",
       "    <tr style=\"text-align: right;\">\n",
       "      <th></th>\n",
       "      <th>cand_pty_affiliation</th>\n",
       "      <th>cand_office_st</th>\n",
       "      <th>cand_office</th>\n",
       "      <th>cand_status</th>\n",
       "      <th>rpt_tp</th>\n",
       "      <th>transaction_tp</th>\n",
       "      <th>entity_tp</th>\n",
       "      <th>state</th>\n",
       "      <th>classification</th>\n",
       "      <th>cycle</th>\n",
       "      <th>transaction_amt</th>\n",
       "    </tr>\n",
       "  </thead>\n",
       "  <tbody>\n",
       "    <tr>\n",
       "      <th>0</th>\n",
       "      <td>REP</td>\n",
       "      <td>US</td>\n",
       "      <td>P</td>\n",
       "      <td>C</td>\n",
       "      <td>Q3</td>\n",
       "      <td>15</td>\n",
       "      <td>IND</td>\n",
       "      <td>NY</td>\n",
       "      <td>Engineer</td>\n",
       "      <td>2016.0</td>\n",
       "      <td>500.0</td>\n",
       "    </tr>\n",
       "    <tr>\n",
       "      <th>1</th>\n",
       "      <td>DEM</td>\n",
       "      <td>US</td>\n",
       "      <td>P</td>\n",
       "      <td>C</td>\n",
       "      <td>M5</td>\n",
       "      <td>15E</td>\n",
       "      <td>IND</td>\n",
       "      <td>OR</td>\n",
       "      <td>Math-Stat</td>\n",
       "      <td>2016.0</td>\n",
       "      <td>50.0</td>\n",
       "    </tr>\n",
       "    <tr>\n",
       "      <th>2</th>\n",
       "      <td>DEM</td>\n",
       "      <td>US</td>\n",
       "      <td>P</td>\n",
       "      <td>C</td>\n",
       "      <td>M3</td>\n",
       "      <td>15</td>\n",
       "      <td>IND</td>\n",
       "      <td>TX</td>\n",
       "      <td>Scientist</td>\n",
       "      <td>2008.0</td>\n",
       "      <td>250.0</td>\n",
       "    </tr>\n",
       "    <tr>\n",
       "      <th>3</th>\n",
       "      <td>DEM</td>\n",
       "      <td>US</td>\n",
       "      <td>P</td>\n",
       "      <td>C</td>\n",
       "      <td>Q2</td>\n",
       "      <td>15E</td>\n",
       "      <td>IND</td>\n",
       "      <td>IN</td>\n",
       "      <td>Math-Stat</td>\n",
       "      <td>2016.0</td>\n",
       "      <td>250.0</td>\n",
       "    </tr>\n",
       "    <tr>\n",
       "      <th>4</th>\n",
       "      <td>REP</td>\n",
       "      <td>US</td>\n",
       "      <td>P</td>\n",
       "      <td>C</td>\n",
       "      <td>12G</td>\n",
       "      <td>15</td>\n",
       "      <td>IND</td>\n",
       "      <td>MA</td>\n",
       "      <td>Engineer</td>\n",
       "      <td>2016.0</td>\n",
       "      <td>184.0</td>\n",
       "    </tr>\n",
       "  </tbody>\n",
       "</table>\n",
       "</div>"
      ],
      "text/plain": [
       "  cand_pty_affiliation cand_office_st cand_office cand_status rpt_tp  \\\n",
       "0                  REP             US           P           C     Q3   \n",
       "1                  DEM             US           P           C     M5   \n",
       "2                  DEM             US           P           C     M3   \n",
       "3                  DEM             US           P           C     Q2   \n",
       "4                  REP             US           P           C    12G   \n",
       "\n",
       "  transaction_tp entity_tp state classification   cycle  transaction_amt  \n",
       "0             15       IND    NY       Engineer  2016.0            500.0  \n",
       "1            15E       IND    OR      Math-Stat  2016.0             50.0  \n",
       "2             15       IND    TX      Scientist  2008.0            250.0  \n",
       "3            15E       IND    IN      Math-Stat  2016.0            250.0  \n",
       "4             15       IND    MA       Engineer  2016.0            184.0  "
      ]
     },
     "execution_count": 2,
     "metadata": {},
     "output_type": "execute_result"
    }
   ],
   "source": [
    "### Training and test set\n",
    "from sklearn.model_selection import train_test_split\n",
    "from sklearn.metrics import roc_auc_score\n",
    "\n",
    "def get_train_test(test_size=0.95):\n",
    "    \"\"\"Split Data into train and test sets.\"\"\"\n",
    "    y = 1 * (df.cand_pty_affiliation == \"REP\")\n",
    "    X = df.drop([\"cand_pty_affiliation\"], axis=1)\n",
    "    X = pd.get_dummies(X, sparse=True)\n",
    "    #X.drop(X.columns[X.std() == 0], axis=1, inplace=True)\n",
    "    return train_test_split(X, y, test_size=test_size, random_state=SEED)\n",
    "xtrain, xtest, ytrain, ytest = get_train_test()\n",
    "\n",
    "# A look at the data\n",
    "print(\"\\nExample data:\")\n",
    "df.head()"
   ]
  },
  {
   "cell_type": "code",
   "execution_count": 4,
   "metadata": {},
   "outputs": [
    {
     "data": {
      "text/html": [
       "<div>\n",
       "<style scoped>\n",
       "    .dataframe tbody tr th:only-of-type {\n",
       "        vertical-align: middle;\n",
       "    }\n",
       "\n",
       "    .dataframe tbody tr th {\n",
       "        vertical-align: top;\n",
       "    }\n",
       "\n",
       "    .dataframe thead th {\n",
       "        text-align: right;\n",
       "    }\n",
       "</style>\n",
       "<table border=\"1\" class=\"dataframe\">\n",
       "  <thead>\n",
       "    <tr style=\"text-align: right;\">\n",
       "      <th></th>\n",
       "      <th>cand_pty_affiliation</th>\n",
       "      <th>cand_office_st</th>\n",
       "      <th>cand_office</th>\n",
       "      <th>cand_status</th>\n",
       "      <th>rpt_tp</th>\n",
       "      <th>transaction_tp</th>\n",
       "      <th>entity_tp</th>\n",
       "      <th>state</th>\n",
       "      <th>classification</th>\n",
       "      <th>cycle</th>\n",
       "      <th>transaction_amt</th>\n",
       "    </tr>\n",
       "  </thead>\n",
       "  <tbody>\n",
       "    <tr>\n",
       "      <th>0</th>\n",
       "      <td>REP</td>\n",
       "      <td>US</td>\n",
       "      <td>P</td>\n",
       "      <td>C</td>\n",
       "      <td>Q3</td>\n",
       "      <td>15</td>\n",
       "      <td>IND</td>\n",
       "      <td>NY</td>\n",
       "      <td>Engineer</td>\n",
       "      <td>2016.0</td>\n",
       "      <td>500.0</td>\n",
       "    </tr>\n",
       "    <tr>\n",
       "      <th>1</th>\n",
       "      <td>DEM</td>\n",
       "      <td>US</td>\n",
       "      <td>P</td>\n",
       "      <td>C</td>\n",
       "      <td>M5</td>\n",
       "      <td>15E</td>\n",
       "      <td>IND</td>\n",
       "      <td>OR</td>\n",
       "      <td>Math-Stat</td>\n",
       "      <td>2016.0</td>\n",
       "      <td>50.0</td>\n",
       "    </tr>\n",
       "    <tr>\n",
       "      <th>2</th>\n",
       "      <td>DEM</td>\n",
       "      <td>US</td>\n",
       "      <td>P</td>\n",
       "      <td>C</td>\n",
       "      <td>M3</td>\n",
       "      <td>15</td>\n",
       "      <td>IND</td>\n",
       "      <td>TX</td>\n",
       "      <td>Scientist</td>\n",
       "      <td>2008.0</td>\n",
       "      <td>250.0</td>\n",
       "    </tr>\n",
       "    <tr>\n",
       "      <th>3</th>\n",
       "      <td>DEM</td>\n",
       "      <td>US</td>\n",
       "      <td>P</td>\n",
       "      <td>C</td>\n",
       "      <td>Q2</td>\n",
       "      <td>15E</td>\n",
       "      <td>IND</td>\n",
       "      <td>IN</td>\n",
       "      <td>Math-Stat</td>\n",
       "      <td>2016.0</td>\n",
       "      <td>250.0</td>\n",
       "    </tr>\n",
       "    <tr>\n",
       "      <th>4</th>\n",
       "      <td>REP</td>\n",
       "      <td>US</td>\n",
       "      <td>P</td>\n",
       "      <td>C</td>\n",
       "      <td>12G</td>\n",
       "      <td>15</td>\n",
       "      <td>IND</td>\n",
       "      <td>MA</td>\n",
       "      <td>Engineer</td>\n",
       "      <td>2016.0</td>\n",
       "      <td>184.0</td>\n",
       "    </tr>\n",
       "    <tr>\n",
       "      <th>...</th>\n",
       "      <td>...</td>\n",
       "      <td>...</td>\n",
       "      <td>...</td>\n",
       "      <td>...</td>\n",
       "      <td>...</td>\n",
       "      <td>...</td>\n",
       "      <td>...</td>\n",
       "      <td>...</td>\n",
       "      <td>...</td>\n",
       "      <td>...</td>\n",
       "      <td>...</td>\n",
       "    </tr>\n",
       "    <tr>\n",
       "      <th>99995</th>\n",
       "      <td>DEM</td>\n",
       "      <td>MO</td>\n",
       "      <td>S</td>\n",
       "      <td>C</td>\n",
       "      <td>12G</td>\n",
       "      <td>15E</td>\n",
       "      <td>IND</td>\n",
       "      <td>MA</td>\n",
       "      <td>Engineer</td>\n",
       "      <td>2016.0</td>\n",
       "      <td>100.0</td>\n",
       "    </tr>\n",
       "    <tr>\n",
       "      <th>99996</th>\n",
       "      <td>DEM</td>\n",
       "      <td>CA</td>\n",
       "      <td>H</td>\n",
       "      <td>C</td>\n",
       "      <td>30G</td>\n",
       "      <td>15</td>\n",
       "      <td>IND</td>\n",
       "      <td>CA</td>\n",
       "      <td>Engineer</td>\n",
       "      <td>2010.0</td>\n",
       "      <td>500.0</td>\n",
       "    </tr>\n",
       "    <tr>\n",
       "      <th>99997</th>\n",
       "      <td>DEM</td>\n",
       "      <td>US</td>\n",
       "      <td>P</td>\n",
       "      <td>C</td>\n",
       "      <td>M6</td>\n",
       "      <td>15</td>\n",
       "      <td>IND</td>\n",
       "      <td>NJ</td>\n",
       "      <td>Engineer</td>\n",
       "      <td>2016.0</td>\n",
       "      <td>250.0</td>\n",
       "    </tr>\n",
       "    <tr>\n",
       "      <th>99998</th>\n",
       "      <td>DEM</td>\n",
       "      <td>US</td>\n",
       "      <td>P</td>\n",
       "      <td>C</td>\n",
       "      <td>12G</td>\n",
       "      <td>15</td>\n",
       "      <td>IND</td>\n",
       "      <td>CO</td>\n",
       "      <td>Scientist</td>\n",
       "      <td>2016.0</td>\n",
       "      <td>25.0</td>\n",
       "    </tr>\n",
       "    <tr>\n",
       "      <th>99999</th>\n",
       "      <td>DEM</td>\n",
       "      <td>US</td>\n",
       "      <td>P</td>\n",
       "      <td>C</td>\n",
       "      <td>Q3</td>\n",
       "      <td>15</td>\n",
       "      <td>IND</td>\n",
       "      <td>CA</td>\n",
       "      <td>Scientist</td>\n",
       "      <td>2016.0</td>\n",
       "      <td>500.0</td>\n",
       "    </tr>\n",
       "  </tbody>\n",
       "</table>\n",
       "<p>100000 rows × 11 columns</p>\n",
       "</div>"
      ],
      "text/plain": [
       "      cand_pty_affiliation cand_office_st cand_office cand_status rpt_tp  \\\n",
       "0                      REP             US           P           C     Q3   \n",
       "1                      DEM             US           P           C     M5   \n",
       "2                      DEM             US           P           C     M3   \n",
       "3                      DEM             US           P           C     Q2   \n",
       "4                      REP             US           P           C    12G   \n",
       "...                    ...            ...         ...         ...    ...   \n",
       "99995                  DEM             MO           S           C    12G   \n",
       "99996                  DEM             CA           H           C    30G   \n",
       "99997                  DEM             US           P           C     M6   \n",
       "99998                  DEM             US           P           C    12G   \n",
       "99999                  DEM             US           P           C     Q3   \n",
       "\n",
       "      transaction_tp entity_tp state classification   cycle  transaction_amt  \n",
       "0                 15       IND    NY       Engineer  2016.0            500.0  \n",
       "1                15E       IND    OR      Math-Stat  2016.0             50.0  \n",
       "2                 15       IND    TX      Scientist  2008.0            250.0  \n",
       "3                15E       IND    IN      Math-Stat  2016.0            250.0  \n",
       "4                 15       IND    MA       Engineer  2016.0            184.0  \n",
       "...              ...       ...   ...            ...     ...              ...  \n",
       "99995            15E       IND    MA       Engineer  2016.0            100.0  \n",
       "99996             15       IND    CA       Engineer  2010.0            500.0  \n",
       "99997             15       IND    NJ       Engineer  2016.0            250.0  \n",
       "99998             15       IND    CO      Scientist  2016.0             25.0  \n",
       "99999             15       IND    CA      Scientist  2016.0            500.0  \n",
       "\n",
       "[100000 rows x 11 columns]"
      ]
     },
     "execution_count": 4,
     "metadata": {},
     "output_type": "execute_result"
    }
   ],
   "source": [
    "df"
   ]
  },
  {
   "cell_type": "markdown",
   "metadata": {},
   "source": [
    ">***如上特征含义如下：***\n",
    "1 cand_pty_affiliation, 标签项\\\n",
    "2 cand_office_st：候选人活动的州\\\n",
    "3 cand_office ：或者是在这个州居住，或者是作为这个州的候选人\\\n",
    "4 cand_status :判断候选人是否竞选公职或者在职\\\n",
    "5 rpt_tp：识别竞选期间捐款\\\n",
    "6 transaction_tp:捐款形式，是候选人自己捐款，还是\\\n",
    "7entitp_tp:捐款实体，\\\n",
    "8state:捐款人所在州\\\n",
    "9classification：所在专业领域\\\n",
    "10cycle:捐款时间\\\n",
    "11 transaction_amt：捐款金额\n"
   ]
  },
  {
   "cell_type": "code",
   "execution_count": 5,
   "metadata": {},
   "outputs": [
    {
     "data": {
      "image/png": "[encoded data removed]",
      "text/plain": [
       "<Figure size 432x288 with 1 Axes>"
      ]
     },
     "metadata": {
      "needs_background": "light"
     },
     "output_type": "display_data"
    }
   ],
   "source": [
    "df.cand_pty_affiliation.value_counts(normalize=True).plot(   #normalize =True 表示用百分数来标识\n",
    "   kind=\"bar\", title=\"Share of No. donations\")\n",
    "plt.show()"
   ]
  },
  {
   "cell_type": "markdown",
   "metadata": {},
   "source": [
    "### 可视化决策树"
   ]
  },
  {
   "cell_type": "code",
   "execution_count": 8,
   "metadata": {},
   "outputs": [],
   "source": [
    "import pydotplus  # you can install pydotplus with: pip install pydotplus \n",
    "from IPython.display import Image\n",
    "from sklearn.metrics import roc_auc_score\n",
    "from sklearn.tree import DecisionTreeClassifier, export_graphviz\n",
    "\n",
    "def print_graph(clf, feature_names):\n",
    "    \"\"\"Print decision tree.\"\"\"\n",
    "    graph = export_graphviz(\n",
    "        clf,\n",
    "        label=\"root\",\n",
    "        proportion=True,\n",
    "        impurity=False, \n",
    "        out_file=None, \n",
    "        feature_names=feature_names,\n",
    "        class_names={0: \"D\", 1: \"R\"},\n",
    "        filled=True,\n",
    "        rounded=True\n",
    "    )\n",
    "    graph = pydotplus.graph_from_dot_data(graph)  \n",
    "    return Image(graph.create_png())"
   ]
  },
  {
   "cell_type": "code",
   "execution_count": 9,
   "metadata": {},
   "outputs": [
    {
     "name": "stderr",
     "output_type": "stream",
     "text": [
      "c:\\users\\wangk66\\appdata\\local\\programs\\python\\python36\\lib\\site-packages\\sklearn\\utils\\validation.py:510: UserWarning: pandas.DataFrame with sparse columns found.It will be converted to a dense numpy array.\n",
      "  \"pandas.DataFrame with sparse columns found.\"\n"
     ]
    },
    {
     "data": {
      "text/plain": [
       "DecisionTreeClassifier(max_depth=1, random_state=222)"
      ]
     },
     "execution_count": 9,
     "metadata": {},
     "output_type": "execute_result"
    }
   ],
   "source": [
    "t1 = DecisionTreeClassifier(max_depth=1, random_state=SEED)\n",
    "t1.fit(xtrain, ytrain)"
   ]
  },
  {
   "cell_type": "code",
   "execution_count": 20,
   "metadata": {},
   "outputs": [
    {
     "name": "stderr",
     "output_type": "stream",
     "text": [
      "c:\\users\\wangk66\\appdata\\local\\programs\\python\\python36\\lib\\site-packages\\sklearn\\utils\\validation.py:510: UserWarning: pandas.DataFrame with sparse columns found.It will be converted to a dense numpy array.\n",
      "  \"pandas.DataFrame with sparse columns found.\"\n"
     ]
    },
    {
     "data": {
      "text/plain": [
       "array([[0.617854  , 0.382146  ],\n",
       "       [0.88481291, 0.11518709],\n",
       "       [0.617854  , 0.382146  ],\n",
       "       ...,\n",
       "       [0.617854  , 0.382146  ],\n",
       "       [0.617854  , 0.382146  ],\n",
       "       [0.88481291, 0.11518709]])"
      ]
     },
     "execution_count": 20,
     "metadata": {},
     "output_type": "execute_result"
    }
   ],
   "source": [
    "t1.predict_proba(xtest)"
   ]
  },
  {
   "cell_type": "code",
   "execution_count": 21,
   "metadata": {},
   "outputs": [
    {
     "name": "stderr",
     "output_type": "stream",
     "text": [
      "c:\\users\\wangk66\\appdata\\local\\programs\\python\\python36\\lib\\site-packages\\sklearn\\utils\\validation.py:510: UserWarning: pandas.DataFrame with sparse columns found.It will be converted to a dense numpy array.\n",
      "  \"pandas.DataFrame with sparse columns found.\"\n"
     ]
    },
    {
     "data": {
      "text/plain": [
       "array([0.382146  , 0.11518709, 0.382146  , ..., 0.382146  , 0.382146  ,\n",
       "       0.11518709])"
      ]
     },
     "execution_count": 21,
     "metadata": {},
     "output_type": "execute_result"
    }
   ],
   "source": [
    "t1.predict_proba(xtest)[:,1]"
   ]
  },
  {
   "cell_type": "code",
   "execution_count": 22,
   "metadata": {},
   "outputs": [
    {
     "name": "stdout",
     "output_type": "stream",
     "text": [
      "Decision tree ROC-AUC score: 0.672\n"
     ]
    },
    {
     "data": {
      "image/png": "[encoded data removed]",
      "text/plain": [
       "<IPython.core.display.Image object>"
      ]
     },
     "execution_count": 22,
     "metadata": {},
     "output_type": "execute_result"
    }
   ],
   "source": [
    "print(\"Decision tree ROC-AUC score: %.3f\" % roc_auc_score(ytest, p))\n",
    "print_graph(t1, xtrain.columns)"
   ]
  },
  {
   "cell_type": "markdown",
   "metadata": {},
   "source": [
    ">上图可见，所有的分类都是一类。这个和我们之前的分析矛盾，\\\n",
    " 上图显示，75%的捐给民主党。"
   ]
  },
  {
   "cell_type": "code",
   "execution_count": 23,
   "metadata": {},
   "outputs": [
    {
     "name": "stderr",
     "output_type": "stream",
     "text": [
      "c:\\users\\wangk66\\appdata\\local\\programs\\python\\python36\\lib\\site-packages\\sklearn\\utils\\validation.py:510: UserWarning: pandas.DataFrame with sparse columns found.It will be converted to a dense numpy array.\n",
      "  \"pandas.DataFrame with sparse columns found.\"\n",
      "c:\\users\\wangk66\\appdata\\local\\programs\\python\\python36\\lib\\site-packages\\sklearn\\utils\\validation.py:510: UserWarning: pandas.DataFrame with sparse columns found.It will be converted to a dense numpy array.\n",
      "  \"pandas.DataFrame with sparse columns found.\"\n"
     ]
    },
    {
     "name": "stdout",
     "output_type": "stream",
     "text": [
      "Decision tree ROC-AUC score: 0.751\n"
     ]
    },
    {
     "data": {
      "image/png": "[encoded data removed]",
      "text/plain": [
       "<IPython.core.display.Image object>"
      ]
     },
     "execution_count": 23,
     "metadata": {},
     "output_type": "execute_result"
    }
   ],
   "source": [
    "t2 = DecisionTreeClassifier(max_depth=3, random_state=SEED)\n",
    "t2.fit(xtrain, ytrain)\n",
    "p = t2.predict_proba(xtest)[:, 1]\n",
    "\n",
    "print(\"Decision tree ROC-AUC score: %.3f\" % roc_auc_score(ytest, p))\n",
    "print_graph(t2, xtrain.columns)"
   ]
  },
  {
   "cell_type": "markdown",
   "metadata": {},
   "source": [
    ">*** 注意到\\*** \n",
    "1 预测到R的月4.9%，和25%的训练集评估指标相差甚远；\\\n",
    "2 过拟合情况严重；\n",
    "3 下面删除特征 transaction_amt，来降低过拟合的情况；"
   ]
  },
  {
   "cell_type": "code",
   "execution_count": null,
   "metadata": {},
   "outputs": [],
   "source": []
  },
  {
   "cell_type": "code",
   "execution_count": 24,
   "metadata": {},
   "outputs": [
    {
     "name": "stderr",
     "output_type": "stream",
     "text": [
      "c:\\users\\wangk66\\appdata\\local\\programs\\python\\python36\\lib\\site-packages\\sklearn\\utils\\validation.py:510: UserWarning: pandas.DataFrame with sparse columns found.It will be converted to a dense numpy array.\n",
      "  \"pandas.DataFrame with sparse columns found.\"\n",
      "c:\\users\\wangk66\\appdata\\local\\programs\\python\\python36\\lib\\site-packages\\sklearn\\utils\\validation.py:510: UserWarning: pandas.DataFrame with sparse columns found.It will be converted to a dense numpy array.\n",
      "  \"pandas.DataFrame with sparse columns found.\"\n"
     ]
    },
    {
     "name": "stdout",
     "output_type": "stream",
     "text": [
      "Decision tree ROC-AUC score: 0.740\n"
     ]
    },
    {
     "data": {
      "image/png": "[encoded data removed]",
      "text/plain": [
       "<IPython.core.display.Image object>"
      ]
     },
     "execution_count": 24,
     "metadata": {},
     "output_type": "execute_result"
    }
   ],
   "source": [
    "drop = [\"transaction_amt\"]\n",
    "\n",
    "xtrain_slim = xtrain.drop(drop, 1)\n",
    "xtest_slim = xtest.drop(drop, 1)\n",
    "\n",
    "t3 = DecisionTreeClassifier(max_depth=3, random_state=SEED)\n",
    "t3.fit(xtrain_slim, ytrain)\n",
    "p = t3.predict_proba(xtest_slim)[:, 1]\n",
    "\n",
    "\n",
    "print(\"Decision tree ROC-AUC score: %.3f\" % roc_auc_score(ytest, p))\n",
    "print_graph(t3, xtrain_slim.columns)"
   ]
  },
  {
   "cell_type": "markdown",
   "metadata": {},
   "source": [
    "> score相比之前，略有下降;\\\n",
    "  预测R的比列月7.3,比之前略有提升；"
   ]
  },
  {
   "cell_type": "code",
   "execution_count": 31,
   "metadata": {},
   "outputs": [
    {
     "data": {
      "text/html": [
       "<div>\n",
       "<style scoped>\n",
       "    .dataframe tbody tr th:only-of-type {\n",
       "        vertical-align: middle;\n",
       "    }\n",
       "\n",
       "    .dataframe tbody tr th {\n",
       "        vertical-align: top;\n",
       "    }\n",
       "\n",
       "    .dataframe thead th {\n",
       "        text-align: right;\n",
       "    }\n",
       "</style>\n",
       "<table border=\"1\" class=\"dataframe\">\n",
       "  <thead>\n",
       "    <tr style=\"text-align: right;\">\n",
       "      <th></th>\n",
       "      <th>full_data</th>\n",
       "      <th>red_data</th>\n",
       "    </tr>\n",
       "  </thead>\n",
       "  <tbody>\n",
       "    <tr>\n",
       "      <th>full_data</th>\n",
       "      <td>1.000000</td>\n",
       "      <td>0.669128</td>\n",
       "    </tr>\n",
       "    <tr>\n",
       "      <th>red_data</th>\n",
       "      <td>0.669128</td>\n",
       "      <td>1.000000</td>\n",
       "    </tr>\n",
       "  </tbody>\n",
       "</table>\n",
       "</div>"
      ],
      "text/plain": [
       "           full_data  red_data\n",
       "full_data   1.000000  0.669128\n",
       "red_data    0.669128  1.000000"
      ]
     },
     "execution_count": 31,
     "metadata": {},
     "output_type": "execute_result"
    }
   ],
   "source": [
    "p1 = t2.predict_proba(xtest)[:, 1]\n",
    "p2 = t3.predict_proba(xtest_slim)[:, 1]\n",
    "\n",
    "pd.DataFrame({\"full_data\": p1,\n",
    "\"red_data\": p2}).corr()"
   ]
  },
  {
   "cell_type": "markdown",
   "metadata": {},
   "source": [
    "### 下面采用平均法"
   ]
  },
  {
   "cell_type": "code",
   "execution_count": 32,
   "metadata": {},
   "outputs": [
    {
     "name": "stdout",
     "output_type": "stream",
     "text": [
      "Average of decision tree ROC-AUC score: 0.783\n"
     ]
    }
   ],
   "source": [
    "p1 = t2.predict_proba(xtest)[:, 1]\n",
    "p2 = t3.predict_proba(xtest_slim)[:, 1]\n",
    "p = np.mean([p1, p2], axis=0)\n",
    "print(\"Average of decision tree ROC-AUC score: %.3f\" % roc_auc_score(ytest, p))"
   ]
  },
  {
   "cell_type": "markdown",
   "metadata": {},
   "source": [
    ">注意到score分值提高到0.78"
   ]
  },
  {
   "cell_type": "code",
   "execution_count": null,
   "metadata": {},
   "outputs": [],
   "source": []
  },
  {
   "cell_type": "code",
   "execution_count": 34,
   "metadata": {},
   "outputs": [
    {
     "name": "stdout",
     "output_type": "stream",
     "text": [
      "Average of decision tree ROC-AUC score: 0.844\n"
     ]
    }
   ],
   "source": [
    "from sklearn.ensemble import RandomForestClassifier\n",
    "\n",
    "rf = RandomForestClassifier(\n",
    "   n_estimators=10,\n",
    "   max_features=3,\n",
    "   random_state=SEED\n",
    ")\n",
    "\n",
    "rf.fit(xtrain, ytrain)\n",
    "p = rf.predict_proba(xtest)[:, 1]\n",
    "print(\"Average of decision tree ROC-AUC score: %.3f\" % roc_auc_score(ytest, p))"
   ]
  },
  {
   "cell_type": "code",
   "execution_count": null,
   "metadata": {},
   "outputs": [],
   "source": []
  },
  {
   "cell_type": "code",
   "execution_count": 35,
   "metadata": {},
   "outputs": [],
   "source": [
    "from sklearn.svm import SVC, LinearSVC\n",
    "from sklearn.naive_bayes import GaussianNB\n",
    "from sklearn.ensemble import RandomForestClassifier, GradientBoostingClassifier\n",
    "from sklearn.linear_model import LogisticRegression\n",
    "from sklearn.neighbors import KNeighborsClassifier\n",
    "from sklearn.neural_network import MLPClassifier\n",
    "from sklearn.kernel_approximation import Nystroem\n",
    "from sklearn.kernel_approximation import RBFSampler\n",
    "from sklearn.pipeline import make_pipeline\n",
    "\n",
    "\n",
    "def get_models():\n",
    "    \"\"\"Generate a library of base learners.\"\"\"\n",
    "    nb = GaussianNB()\n",
    "    svc = SVC(C=100, probability=True)\n",
    "    knn = KNeighborsClassifier(n_neighbors=3)\n",
    "    lr = LogisticRegression(C=100, random_state=SEED)\n",
    "    nn = MLPClassifier((80, 10), early_stopping=False, random_state=SEED)\n",
    "    gb = GradientBoostingClassifier(n_estimators=100, random_state=SEED)\n",
    "    rf = RandomForestClassifier(n_estimators=10, max_features=3, random_state=SEED)\n",
    "\n",
    "    models = {'svm': svc,\n",
    "              'knn': knn,\n",
    "              'naive bayes': nb,\n",
    "              'mlp-nn': nn,\n",
    "              'random forest': rf,\n",
    "              'gbm': gb,\n",
    "              'logistic': lr,\n",
    "             }\n",
    "    return models"
   ]
  },
  {
   "cell_type": "code",
   "execution_count": 42,
   "metadata": {},
   "outputs": [],
   "source": [
    "def train_predict(model_list):\n",
    "    \"\"\"Fit models in list on training set and return preds\"\"\"\n",
    "    P = np.zeros((ytest.shape[0], len(model_list)))\n",
    "    P = pd.DataFrame(P)\n",
    "    \n",
    "    print(\"Fitting models.\")\n",
    "    cols = list()\n",
    "    for i, (name, m) in enumerate(models.items()):\n",
    "        print(\"%s...\" % name, end=\" \", flush=False)\n",
    "        m.fit(xtrain, ytrain)\n",
    "        P.iloc[:, i] = m.predict_proba(xtest)[:, 1]\n",
    "        cols.append(name)\n",
    "        print(\"done\")\n",
    "        #P.columns = cols\n",
    "    print(\"Done.\\n\")\n",
    "    return P"
   ]
  },
  {
   "cell_type": "code",
   "execution_count": 40,
   "metadata": {},
   "outputs": [
    {
     "data": {
      "text/plain": [
       "{'svm': SVC(C=100, probability=True),\n",
       " 'knn': KNeighborsClassifier(n_neighbors=3),\n",
       " 'naive bayes': GaussianNB(),\n",
       " 'mlp-nn': MLPClassifier(hidden_layer_sizes=(80, 10), random_state=222),\n",
       " 'random forest': RandomForestClassifier(max_features=3, n_estimators=10, random_state=222),\n",
       " 'gbm': GradientBoostingClassifier(random_state=222),\n",
       " 'logistic': LogisticRegression(C=100, random_state=222)}"
      ]
     },
     "execution_count": 40,
     "metadata": {},
     "output_type": "execute_result"
    }
   ],
   "source": [
    "models = get_models()\n",
    "models\n"
   ]
  },
  {
   "cell_type": "code",
   "execution_count": 43,
   "metadata": {
    "scrolled": true
   },
   "outputs": [
    {
     "name": "stdout",
     "output_type": "stream",
     "text": [
      "Fitting models.\n",
      "svm... done\n",
      "knn... done\n",
      "naive bayes... done\n",
      "mlp-nn... done\n",
      "random forest... done\n",
      "gbm... done\n",
      "logistic... done\n",
      "Done.\n",
      "\n"
     ]
    },
    {
     "data": {
      "text/html": [
       "<div>\n",
       "<style scoped>\n",
       "    .dataframe tbody tr th:only-of-type {\n",
       "        vertical-align: middle;\n",
       "    }\n",
       "\n",
       "    .dataframe tbody tr th {\n",
       "        vertical-align: top;\n",
       "    }\n",
       "\n",
       "    .dataframe thead th {\n",
       "        text-align: right;\n",
       "    }\n",
       "</style>\n",
       "<table border=\"1\" class=\"dataframe\">\n",
       "  <thead>\n",
       "    <tr style=\"text-align: right;\">\n",
       "      <th></th>\n",
       "      <th>0</th>\n",
       "      <th>1</th>\n",
       "      <th>2</th>\n",
       "      <th>3</th>\n",
       "      <th>4</th>\n",
       "      <th>5</th>\n",
       "      <th>6</th>\n",
       "    </tr>\n",
       "  </thead>\n",
       "  <tbody>\n",
       "    <tr>\n",
       "      <th>0</th>\n",
       "      <td>0.236360</td>\n",
       "      <td>0.333333</td>\n",
       "      <td>5.020798e-10</td>\n",
       "      <td>0.127355</td>\n",
       "      <td>0.3</td>\n",
       "      <td>0.265998</td>\n",
       "      <td>0.149704</td>\n",
       "    </tr>\n",
       "    <tr>\n",
       "      <th>1</th>\n",
       "      <td>0.232352</td>\n",
       "      <td>0.000000</td>\n",
       "      <td>1.085367e-68</td>\n",
       "      <td>0.001717</td>\n",
       "      <td>0.0</td>\n",
       "      <td>0.017165</td>\n",
       "      <td>0.000546</td>\n",
       "    </tr>\n",
       "    <tr>\n",
       "      <th>2</th>\n",
       "      <td>0.237498</td>\n",
       "      <td>0.333333</td>\n",
       "      <td>6.701134e-14</td>\n",
       "      <td>0.181957</td>\n",
       "      <td>0.2</td>\n",
       "      <td>0.328002</td>\n",
       "      <td>0.364734</td>\n",
       "    </tr>\n",
       "    <tr>\n",
       "      <th>3</th>\n",
       "      <td>0.234115</td>\n",
       "      <td>0.000000</td>\n",
       "      <td>2.862588e-62</td>\n",
       "      <td>0.024812</td>\n",
       "      <td>0.0</td>\n",
       "      <td>0.024914</td>\n",
       "      <td>0.004333</td>\n",
       "    </tr>\n",
       "    <tr>\n",
       "      <th>4</th>\n",
       "      <td>0.232964</td>\n",
       "      <td>0.000000</td>\n",
       "      <td>1.020511e-61</td>\n",
       "      <td>0.005613</td>\n",
       "      <td>0.0</td>\n",
       "      <td>0.017396</td>\n",
       "      <td>0.001141</td>\n",
       "    </tr>\n",
       "    <tr>\n",
       "      <th>...</th>\n",
       "      <td>...</td>\n",
       "      <td>...</td>\n",
       "      <td>...</td>\n",
       "      <td>...</td>\n",
       "      <td>...</td>\n",
       "      <td>...</td>\n",
       "      <td>...</td>\n",
       "    </tr>\n",
       "    <tr>\n",
       "      <th>94995</th>\n",
       "      <td>0.239265</td>\n",
       "      <td>0.666667</td>\n",
       "      <td>1.000000e+00</td>\n",
       "      <td>0.911018</td>\n",
       "      <td>1.0</td>\n",
       "      <td>0.859487</td>\n",
       "      <td>0.788745</td>\n",
       "    </tr>\n",
       "    <tr>\n",
       "      <th>94996</th>\n",
       "      <td>0.233575</td>\n",
       "      <td>0.000000</td>\n",
       "      <td>2.108761e-68</td>\n",
       "      <td>0.009223</td>\n",
       "      <td>0.0</td>\n",
       "      <td>0.021048</td>\n",
       "      <td>0.001792</td>\n",
       "    </tr>\n",
       "    <tr>\n",
       "      <th>94997</th>\n",
       "      <td>0.235493</td>\n",
       "      <td>0.000000</td>\n",
       "      <td>1.931623e-09</td>\n",
       "      <td>0.221369</td>\n",
       "      <td>0.4</td>\n",
       "      <td>0.214878</td>\n",
       "      <td>0.144859</td>\n",
       "    </tr>\n",
       "    <tr>\n",
       "      <th>94998</th>\n",
       "      <td>0.236375</td>\n",
       "      <td>0.333333</td>\n",
       "      <td>5.133277e-16</td>\n",
       "      <td>0.094009</td>\n",
       "      <td>0.4</td>\n",
       "      <td>0.254655</td>\n",
       "      <td>0.135917</td>\n",
       "    </tr>\n",
       "    <tr>\n",
       "      <th>94999</th>\n",
       "      <td>0.233370</td>\n",
       "      <td>0.000000</td>\n",
       "      <td>5.147167e-67</td>\n",
       "      <td>0.007523</td>\n",
       "      <td>0.0</td>\n",
       "      <td>0.019565</td>\n",
       "      <td>0.001393</td>\n",
       "    </tr>\n",
       "  </tbody>\n",
       "</table>\n",
       "<p>95000 rows × 7 columns</p>\n",
       "</div>"
      ],
      "text/plain": [
       "              0         1             2         3    4         5         6\n",
       "0      0.236360  0.333333  5.020798e-10  0.127355  0.3  0.265998  0.149704\n",
       "1      0.232352  0.000000  1.085367e-68  0.001717  0.0  0.017165  0.000546\n",
       "2      0.237498  0.333333  6.701134e-14  0.181957  0.2  0.328002  0.364734\n",
       "3      0.234115  0.000000  2.862588e-62  0.024812  0.0  0.024914  0.004333\n",
       "4      0.232964  0.000000  1.020511e-61  0.005613  0.0  0.017396  0.001141\n",
       "...         ...       ...           ...       ...  ...       ...       ...\n",
       "94995  0.239265  0.666667  1.000000e+00  0.911018  1.0  0.859487  0.788745\n",
       "94996  0.233575  0.000000  2.108761e-68  0.009223  0.0  0.021048  0.001792\n",
       "94997  0.235493  0.000000  1.931623e-09  0.221369  0.4  0.214878  0.144859\n",
       "94998  0.236375  0.333333  5.133277e-16  0.094009  0.4  0.254655  0.135917\n",
       "94999  0.233370  0.000000  5.147167e-67  0.007523  0.0  0.019565  0.001393\n",
       "\n",
       "[95000 rows x 7 columns]"
      ]
     },
     "execution_count": 43,
     "metadata": {},
     "output_type": "execute_result"
    }
   ],
   "source": [
    "P = train_predict(models)\n",
    "P"
   ]
  },
  {
   "cell_type": "code",
   "execution_count": 47,
   "metadata": {},
   "outputs": [],
   "source": [
    "def score_models(P, y):\n",
    "    \"\"\"Score model in prediction DF\"\"\"\n",
    "    print(\"Scoring models.\")\n",
    "    for m in P.columns:\n",
    "        score = roc_auc_score(y, P.loc[:, m])\n",
    "        print(\"%-26s: %.3f\" % (m, score))\n",
    "    print(\"Done.\\n\")"
   ]
  },
  {
   "cell_type": "code",
   "execution_count": 48,
   "metadata": {},
   "outputs": [
    {
     "name": "stdout",
     "output_type": "stream",
     "text": [
      "Scoring models.\n",
      "0                         : 0.845\n",
      "1                         : 0.779\n",
      "2                         : 0.803\n",
      "3                         : 0.873\n",
      "4                         : 0.844\n",
      "5                         : 0.878\n",
      "6                         : 0.853\n",
      "Done.\n",
      "\n"
     ]
    }
   ],
   "source": [
    "score_models(P, ytest)"
   ]
  },
  {
   "cell_type": "code",
   "execution_count": 59,
   "metadata": {},
   "outputs": [
    {
     "data": {
      "text/plain": [
       "<AxesSubplot:>"
      ]
     },
     "execution_count": 59,
     "metadata": {},
     "output_type": "execute_result"
    },
    {
     "data": {
      "image/png": "[encoded data removed]",
      "text/plain": [
       "<Figure size 432x288 with 2 Axes>"
      ]
     },
     "metadata": {
      "needs_background": "light"
     },
     "output_type": "display_data"
    }
   ],
   "source": [
    "corrmat=P.corr()\n",
    "#f,ax= plt.subplots(figsize=(20,9))\n",
    "sns.heatmap(corrmat,vmax=0.8,square=True)"
   ]
  },
  {
   "cell_type": "code",
   "execution_count": 57,
   "metadata": {},
   "outputs": [
    {
     "data": {
      "text/html": [
       "<div>\n",
       "<style scoped>\n",
       "    .dataframe tbody tr th:only-of-type {\n",
       "        vertical-align: middle;\n",
       "    }\n",
       "\n",
       "    .dataframe tbody tr th {\n",
       "        vertical-align: top;\n",
       "    }\n",
       "\n",
       "    .dataframe thead th {\n",
       "        text-align: right;\n",
       "    }\n",
       "</style>\n",
       "<table border=\"1\" class=\"dataframe\">\n",
       "  <thead>\n",
       "    <tr style=\"text-align: right;\">\n",
       "      <th></th>\n",
       "      <th>0</th>\n",
       "      <th>1</th>\n",
       "      <th>2</th>\n",
       "      <th>3</th>\n",
       "      <th>4</th>\n",
       "      <th>5</th>\n",
       "      <th>6</th>\n",
       "    </tr>\n",
       "  </thead>\n",
       "  <tbody>\n",
       "    <tr>\n",
       "      <th>0</th>\n",
       "      <td>1.000000</td>\n",
       "      <td>0.088330</td>\n",
       "      <td>0.088902</td>\n",
       "      <td>0.135239</td>\n",
       "      <td>0.098729</td>\n",
       "      <td>0.123816</td>\n",
       "      <td>0.136151</td>\n",
       "    </tr>\n",
       "    <tr>\n",
       "      <th>1</th>\n",
       "      <td>0.088330</td>\n",
       "      <td>1.000000</td>\n",
       "      <td>0.332933</td>\n",
       "      <td>0.583485</td>\n",
       "      <td>0.621119</td>\n",
       "      <td>0.645917</td>\n",
       "      <td>0.562647</td>\n",
       "    </tr>\n",
       "    <tr>\n",
       "      <th>2</th>\n",
       "      <td>0.088902</td>\n",
       "      <td>0.332933</td>\n",
       "      <td>1.000000</td>\n",
       "      <td>0.597138</td>\n",
       "      <td>0.445388</td>\n",
       "      <td>0.533431</td>\n",
       "      <td>0.528159</td>\n",
       "    </tr>\n",
       "    <tr>\n",
       "      <th>3</th>\n",
       "      <td>0.135239</td>\n",
       "      <td>0.583485</td>\n",
       "      <td>0.597138</td>\n",
       "      <td>1.000000</td>\n",
       "      <td>0.735542</td>\n",
       "      <td>0.905120</td>\n",
       "      <td>0.896589</td>\n",
       "    </tr>\n",
       "    <tr>\n",
       "      <th>4</th>\n",
       "      <td>0.098729</td>\n",
       "      <td>0.621119</td>\n",
       "      <td>0.445388</td>\n",
       "      <td>0.735542</td>\n",
       "      <td>1.000000</td>\n",
       "      <td>0.777893</td>\n",
       "      <td>0.730647</td>\n",
       "    </tr>\n",
       "    <tr>\n",
       "      <th>5</th>\n",
       "      <td>0.123816</td>\n",
       "      <td>0.645917</td>\n",
       "      <td>0.533431</td>\n",
       "      <td>0.905120</td>\n",
       "      <td>0.777893</td>\n",
       "      <td>1.000000</td>\n",
       "      <td>0.865819</td>\n",
       "    </tr>\n",
       "    <tr>\n",
       "      <th>6</th>\n",
       "      <td>0.136151</td>\n",
       "      <td>0.562647</td>\n",
       "      <td>0.528159</td>\n",
       "      <td>0.896589</td>\n",
       "      <td>0.730647</td>\n",
       "      <td>0.865819</td>\n",
       "      <td>1.000000</td>\n",
       "    </tr>\n",
       "  </tbody>\n",
       "</table>\n",
       "</div>"
      ],
      "text/plain": [
       "          0         1         2         3         4         5         6\n",
       "0  1.000000  0.088330  0.088902  0.135239  0.098729  0.123816  0.136151\n",
       "1  0.088330  1.000000  0.332933  0.583485  0.621119  0.645917  0.562647\n",
       "2  0.088902  0.332933  1.000000  0.597138  0.445388  0.533431  0.528159\n",
       "3  0.135239  0.583485  0.597138  1.000000  0.735542  0.905120  0.896589\n",
       "4  0.098729  0.621119  0.445388  0.735542  1.000000  0.777893  0.730647\n",
       "5  0.123816  0.645917  0.533431  0.905120  0.777893  1.000000  0.865819\n",
       "6  0.136151  0.562647  0.528159  0.896589  0.730647  0.865819  1.000000"
      ]
     },
     "execution_count": 57,
     "metadata": {},
     "output_type": "execute_result"
    }
   ],
   "source": [
    "P.corr()"
   ]
  },
  {
   "cell_type": "code",
   "execution_count": null,
   "metadata": {},
   "outputs": [],
   "source": []
  },
  {
   "cell_type": "code",
   "execution_count": null,
   "metadata": {},
   "outputs": [],
   "source": []
  },
  {
   "cell_type": "code",
   "execution_count": null,
   "metadata": {},
   "outputs": [],
   "source": []
  },
  {
   "cell_type": "code",
   "execution_count": 60,
   "metadata": {},
   "outputs": [],
   "source": [
    "from sklearn.metrics import roc_curve\n",
    "\n",
    "def plot_roc_curve(ytest, P_base_learners, P_ensemble, labels, ens_label):\n",
    "    \"\"\"Plot the roc curve for base learners and ensemble.\"\"\"\n",
    "    plt.figure(figsize=(10, 8))\n",
    "    plt.plot([0, 1], [0, 1], 'k--')\n",
    "\n",
    "    cm = [plt.cm.rainbow(i)\n",
    "    for i in np.linspace(0, 1.0, P_base_learners.shape[1] + 1)]\n",
    "\n",
    "    for i in range(P_base_learners.shape[1]):\n",
    "        p = P_base_learners[:, i]\n",
    "        fpr, tpr, _ = roc_curve(ytest, p)\n",
    "        plt.plot(fpr, tpr, label=labels[i], c=cm[i + 1])\n",
    "\n",
    "    fpr, tpr, _ = roc_curve(ytest, P_ensemble)\n",
    "    plt.plot(fpr, tpr, label=ens_label, c=cm[0])\n",
    "    plt.xlabel('False positive rate')\n",
    "    plt.ylabel('True positive rate')\n",
    "    plt.title('ROC curve')\n",
    "    plt.legend(frameon=False)\n",
    "    plt.show()"
   ]
  },
  {
   "cell_type": "code",
   "execution_count": 64,
   "metadata": {},
   "outputs": [
    {
     "data": {
      "image/png": "[encoded data removed]",
      "text/plain": [
       "<Figure size 720x576 with 1 Axes>"
      ]
     },
     "metadata": {
      "needs_background": "light"
     },
     "output_type": "display_data"
    }
   ],
   "source": [
    "plot_roc_curve(ytest, P.values, P.mean(axis=1), list(P.columns), \"ensemble\")"
   ]
  },
  {
   "cell_type": "code",
   "execution_count": 63,
   "metadata": {},
   "outputs": [],
   "source": [
    "P.columns=[\"svc\",\"knn\",\"naive bayes\",\"mlp-nn\",\"random forest\",\"gbm\",\"logistic\"]"
   ]
  },
  {
   "cell_type": "code",
   "execution_count": null,
   "metadata": {},
   "outputs": [],
   "source": []
  },
  {
   "cell_type": "code",
   "execution_count": 70,
   "metadata": {},
   "outputs": [
    {
     "data": {
      "image/png": "[encoded data removed]",
      "text/plain": [
       "<Figure size 432x288 with 1 Axes>"
      ]
     },
     "metadata": {
      "needs_background": "light"
     },
     "output_type": "display_data"
    }
   ],
   "source": [
    "p = P.apply(lambda x: 1*(x >= 0.5).value_counts(normalize=True))\n",
    "p.index = [\"DEM\", \"REP\"]\n",
    "p.loc[\"REP\", :].sort_values().plot(kind=\"bar\")\n",
    "plt.axhline(0.25, color=\"k\", linewidth=0.5)\n",
    "plt.text(0., 0.23, \"True share republicans\")\n",
    "plt.show() "
   ]
  },
  {
   "cell_type": "code",
   "execution_count": 71,
   "metadata": {},
   "outputs": [
    {
     "name": "stdout",
     "output_type": "stream",
     "text": [
      "Truncated ensemble ROC-AUC score: 0.880\n"
     ]
    }
   ],
   "source": [
    "include = [c for c in P.columns if c not in [\"mlp-nn\"]]\n",
    "print(\"Truncated ensemble ROC-AUC score: %.3f\" % roc_auc_score(ytest, P.loc[:, include].mean(axis=1)))"
   ]
  },
  {
   "cell_type": "code",
   "execution_count": null,
   "metadata": {},
   "outputs": [],
   "source": []
  },
  {
   "cell_type": "code",
   "execution_count": 73,
   "metadata": {},
   "outputs": [
    {
     "data": {
      "text/plain": [
       "{'svm': SVC(C=100, probability=True),\n",
       " 'knn': KNeighborsClassifier(n_neighbors=3),\n",
       " 'naive bayes': GaussianNB(),\n",
       " 'mlp-nn': MLPClassifier(hidden_layer_sizes=(80, 10), random_state=222),\n",
       " 'random forest': RandomForestClassifier(max_features=3, n_estimators=10, random_state=222),\n",
       " 'gbm': GradientBoostingClassifier(random_state=222),\n",
       " 'logistic': LogisticRegression(C=100, random_state=222)}"
      ]
     },
     "execution_count": 73,
     "metadata": {},
     "output_type": "execute_result"
    }
   ],
   "source": [
    "base_learners = get_models()\n",
    "base_learners"
   ]
  },
  {
   "cell_type": "code",
   "execution_count": 74,
   "metadata": {},
   "outputs": [],
   "source": [
    "meta_learner = GradientBoostingClassifier(\n",
    "   n_estimators=1000,\n",
    "   loss=\"exponential\",\n",
    "   max_features=4,\n",
    "   max_depth=3,\n",
    "   subsample=0.5,\n",
    "   learning_rate=0.005, \n",
    "   random_state=SEED\n",
    ")"
   ]
  },
  {
   "cell_type": "code",
   "execution_count": 76,
   "metadata": {},
   "outputs": [],
   "source": [
    "xtrain_base, xpred_base, ytrain_base, ypred_base = train_test_split(\n",
    "   xtrain, ytrain, test_size=0.5, random_state=SEED)"
   ]
  },
  {
   "cell_type": "code",
   "execution_count": 80,
   "metadata": {},
   "outputs": [],
   "source": [
    "def train_base_learners(base_learners, inp, out, verbose=True):\n",
    "    \"\"\"Train all base learners in the library.\"\"\"\n",
    "    if verbose: print(\"Fitting models.\")\n",
    "    for i, (name, m) in enumerate(base_learners.items()):\n",
    "        if verbose: print(\"%s...\" % name, end=\" \", flush=False)\n",
    "        m.fit(inp, out)\n",
    "    if verbose: print(\"done\")"
   ]
  },
  {
   "cell_type": "code",
   "execution_count": 81,
   "metadata": {},
   "outputs": [
    {
     "name": "stdout",
     "output_type": "stream",
     "text": [
      "Fitting models.\n",
      "svm... knn... naive bayes... mlp-nn... random forest... gbm... logistic... done\n"
     ]
    }
   ],
   "source": [
    "train_base_learners(base_learners, xtrain_base, ytrain_base)"
   ]
  },
  {
   "cell_type": "code",
   "execution_count": 85,
   "metadata": {},
   "outputs": [],
   "source": [
    "def predict_base_learners(pred_base_learners, inp, verbose=True):\n",
    "    \"\"\"Generate a prediction matrix.\"\"\"\n",
    "    P = np.zeros((inp.shape[0], len(pred_base_learners)))\n",
    "    if verbose: print(\"Generating base learner predictions.\")\n",
    "    for i, (name, m) in enumerate(pred_base_learners.items()):\n",
    "        if verbose: print(\"%s...\" % name, end=\" \", flush=False)\n",
    "        p = m.predict_proba(inp)\n",
    "    # With two classes, need only predictions for one class\n",
    "    P[:, i] = p[:, 1]\n",
    "    if verbose: print(\"done\")\n",
    "    return P"
   ]
  },
  {
   "cell_type": "code",
   "execution_count": 86,
   "metadata": {},
   "outputs": [
    {
     "name": "stdout",
     "output_type": "stream",
     "text": [
      "Fitting models.\n",
      "svm... knn... naive bayes... mlp-nn... random forest... gbm... logistic... done\n"
     ]
    }
   ],
   "source": [
    "train_base_learners(base_learners, xtrain_base, ytrain_base)"
   ]
  },
  {
   "cell_type": "code",
   "execution_count": 87,
   "metadata": {},
   "outputs": [
    {
     "data": {
      "text/html": [
       "<div>\n",
       "<style scoped>\n",
       "    .dataframe tbody tr th:only-of-type {\n",
       "        vertical-align: middle;\n",
       "    }\n",
       "\n",
       "    .dataframe tbody tr th {\n",
       "        vertical-align: top;\n",
       "    }\n",
       "\n",
       "    .dataframe thead th {\n",
       "        text-align: right;\n",
       "    }\n",
       "</style>\n",
       "<table border=\"1\" class=\"dataframe\">\n",
       "  <thead>\n",
       "    <tr style=\"text-align: right;\">\n",
       "      <th></th>\n",
       "      <th>svc</th>\n",
       "      <th>knn</th>\n",
       "      <th>naive bayes</th>\n",
       "      <th>mlp-nn</th>\n",
       "      <th>random forest</th>\n",
       "      <th>gbm</th>\n",
       "      <th>logistic</th>\n",
       "    </tr>\n",
       "  </thead>\n",
       "  <tbody>\n",
       "    <tr>\n",
       "      <th>0</th>\n",
       "      <td>0.236360</td>\n",
       "      <td>0.333333</td>\n",
       "      <td>5.020798e-10</td>\n",
       "      <td>0.127355</td>\n",
       "      <td>0.3</td>\n",
       "      <td>0.265998</td>\n",
       "      <td>0.149704</td>\n",
       "    </tr>\n",
       "    <tr>\n",
       "      <th>1</th>\n",
       "      <td>0.232352</td>\n",
       "      <td>0.000000</td>\n",
       "      <td>1.085367e-68</td>\n",
       "      <td>0.001717</td>\n",
       "      <td>0.0</td>\n",
       "      <td>0.017165</td>\n",
       "      <td>0.000546</td>\n",
       "    </tr>\n",
       "    <tr>\n",
       "      <th>2</th>\n",
       "      <td>0.237498</td>\n",
       "      <td>0.333333</td>\n",
       "      <td>6.701134e-14</td>\n",
       "      <td>0.181957</td>\n",
       "      <td>0.2</td>\n",
       "      <td>0.328002</td>\n",
       "      <td>0.364734</td>\n",
       "    </tr>\n",
       "    <tr>\n",
       "      <th>3</th>\n",
       "      <td>0.234115</td>\n",
       "      <td>0.000000</td>\n",
       "      <td>2.862588e-62</td>\n",
       "      <td>0.024812</td>\n",
       "      <td>0.0</td>\n",
       "      <td>0.024914</td>\n",
       "      <td>0.004333</td>\n",
       "    </tr>\n",
       "    <tr>\n",
       "      <th>4</th>\n",
       "      <td>0.232964</td>\n",
       "      <td>0.000000</td>\n",
       "      <td>1.020511e-61</td>\n",
       "      <td>0.005613</td>\n",
       "      <td>0.0</td>\n",
       "      <td>0.017396</td>\n",
       "      <td>0.001141</td>\n",
       "    </tr>\n",
       "    <tr>\n",
       "      <th>...</th>\n",
       "      <td>...</td>\n",
       "      <td>...</td>\n",
       "      <td>...</td>\n",
       "      <td>...</td>\n",
       "      <td>...</td>\n",
       "      <td>...</td>\n",
       "      <td>...</td>\n",
       "    </tr>\n",
       "    <tr>\n",
       "      <th>94995</th>\n",
       "      <td>0.239265</td>\n",
       "      <td>0.666667</td>\n",
       "      <td>1.000000e+00</td>\n",
       "      <td>0.911018</td>\n",
       "      <td>1.0</td>\n",
       "      <td>0.859487</td>\n",
       "      <td>0.788745</td>\n",
       "    </tr>\n",
       "    <tr>\n",
       "      <th>94996</th>\n",
       "      <td>0.233575</td>\n",
       "      <td>0.000000</td>\n",
       "      <td>2.108761e-68</td>\n",
       "      <td>0.009223</td>\n",
       "      <td>0.0</td>\n",
       "      <td>0.021048</td>\n",
       "      <td>0.001792</td>\n",
       "    </tr>\n",
       "    <tr>\n",
       "      <th>94997</th>\n",
       "      <td>0.235493</td>\n",
       "      <td>0.000000</td>\n",
       "      <td>1.931623e-09</td>\n",
       "      <td>0.221369</td>\n",
       "      <td>0.4</td>\n",
       "      <td>0.214878</td>\n",
       "      <td>0.144859</td>\n",
       "    </tr>\n",
       "    <tr>\n",
       "      <th>94998</th>\n",
       "      <td>0.236375</td>\n",
       "      <td>0.333333</td>\n",
       "      <td>5.133277e-16</td>\n",
       "      <td>0.094009</td>\n",
       "      <td>0.4</td>\n",
       "      <td>0.254655</td>\n",
       "      <td>0.135917</td>\n",
       "    </tr>\n",
       "    <tr>\n",
       "      <th>94999</th>\n",
       "      <td>0.233370</td>\n",
       "      <td>0.000000</td>\n",
       "      <td>5.147167e-67</td>\n",
       "      <td>0.007523</td>\n",
       "      <td>0.0</td>\n",
       "      <td>0.019565</td>\n",
       "      <td>0.001393</td>\n",
       "    </tr>\n",
       "  </tbody>\n",
       "</table>\n",
       "<p>95000 rows × 7 columns</p>\n",
       "</div>"
      ],
      "text/plain": [
       "            svc       knn   naive bayes    mlp-nn  random forest       gbm  \\\n",
       "0      0.236360  0.333333  5.020798e-10  0.127355            0.3  0.265998   \n",
       "1      0.232352  0.000000  1.085367e-68  0.001717            0.0  0.017165   \n",
       "2      0.237498  0.333333  6.701134e-14  0.181957            0.2  0.328002   \n",
       "3      0.234115  0.000000  2.862588e-62  0.024812            0.0  0.024914   \n",
       "4      0.232964  0.000000  1.020511e-61  0.005613            0.0  0.017396   \n",
       "...         ...       ...           ...       ...            ...       ...   \n",
       "94995  0.239265  0.666667  1.000000e+00  0.911018            1.0  0.859487   \n",
       "94996  0.233575  0.000000  2.108761e-68  0.009223            0.0  0.021048   \n",
       "94997  0.235493  0.000000  1.931623e-09  0.221369            0.4  0.214878   \n",
       "94998  0.236375  0.333333  5.133277e-16  0.094009            0.4  0.254655   \n",
       "94999  0.233370  0.000000  5.147167e-67  0.007523            0.0  0.019565   \n",
       "\n",
       "       logistic  \n",
       "0      0.149704  \n",
       "1      0.000546  \n",
       "2      0.364734  \n",
       "3      0.004333  \n",
       "4      0.001141  \n",
       "...         ...  \n",
       "94995  0.788745  \n",
       "94996  0.001792  \n",
       "94997  0.144859  \n",
       "94998  0.135917  \n",
       "94999  0.001393  \n",
       "\n",
       "[95000 rows x 7 columns]"
      ]
     },
     "execution_count": 87,
     "metadata": {},
     "output_type": "execute_result"
    }
   ],
   "source": [
    "P"
   ]
  },
  {
   "cell_type": "code",
   "execution_count": 88,
   "metadata": {},
   "outputs": [
    {
     "name": "stdout",
     "output_type": "stream",
     "text": [
      "Generating base learner predictions.\n",
      "svm... knn... naive bayes... mlp-nn... random forest... gbm... logistic... done\n"
     ]
    }
   ],
   "source": [
    "P_base = predict_base_learners(base_learners, xpred_base)"
   ]
  },
  {
   "cell_type": "code",
   "execution_count": 90,
   "metadata": {},
   "outputs": [
    {
     "data": {
      "text/plain": [
       "(2500, 7)"
      ]
     },
     "execution_count": 90,
     "metadata": {},
     "output_type": "execute_result"
    }
   ],
   "source": [
    "P_base.shape"
   ]
  },
  {
   "cell_type": "code",
   "execution_count": 91,
   "metadata": {},
   "outputs": [
    {
     "data": {
      "text/plain": [
       "GradientBoostingClassifier(learning_rate=0.005, loss='exponential',\n",
       "                           max_features=4, n_estimators=1000, random_state=222,\n",
       "                           subsample=0.5)"
      ]
     },
     "execution_count": 91,
     "metadata": {},
     "output_type": "execute_result"
    }
   ],
   "source": [
    "meta_learner.fit(P_base, ypred_base)"
   ]
  },
  {
   "cell_type": "code",
   "execution_count": 92,
   "metadata": {},
   "outputs": [],
   "source": [
    "def ensemble_predict(base_learners, meta_learner, inp, verbose=True):\n",
    "    \"\"\"Generate predictions from the ensemble.\"\"\"\n",
    "    P_pred = predict_base_learners(base_learners, inp, verbose=verbose)\n",
    "    return P_pred, meta_learner.predict_proba(P_pred)[:, 1]"
   ]
  },
  {
   "cell_type": "code",
   "execution_count": 93,
   "metadata": {},
   "outputs": [
    {
     "name": "stdout",
     "output_type": "stream",
     "text": [
      "Generating base learner predictions.\n",
      "svm... knn... naive bayes... mlp-nn... random forest... gbm... logistic... done\n",
      "\n",
      "Ensemble ROC-AUC score: 0.849\n"
     ]
    }
   ],
   "source": [
    "P_pred, p = ensemble_predict(base_learners, meta_learner, xtest)\n",
    "print(\"\\nEnsemble ROC-AUC score: %.3f\" % roc_auc_score(ytest, p))"
   ]
  },
  {
   "cell_type": "code",
   "execution_count": null,
   "metadata": {},
   "outputs": [],
   "source": []
  },
  {
   "cell_type": "code",
   "execution_count": null,
   "metadata": {},
   "outputs": [],
   "source": []
  },
  {
   "cell_type": "code",
   "execution_count": null,
   "metadata": {},
   "outputs": [],
   "source": []
  }
 ],
 "metadata": {
  "kernelspec": {
   "display_name": "Python 3",
   "language": "python",
   "name": "python3"
  },
  "language_info": {
   "codemirror_mode": {
    "name": "ipython",
    "version": 3
   },
   "file_extension": ".py",
   "mimetype": "text/x-python",
   "name": "python",
   "nbconvert_exporter": "python",
   "pygments_lexer": "ipython3",
   "version": "3.6.5"
  }
 },
 "nbformat": 4,
 "nbformat_minor": 4
}
